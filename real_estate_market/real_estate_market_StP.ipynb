{
 "cells": [
  {
   "cell_type": "markdown",
   "metadata": {},
   "source": [
    "# Исследование объявлений о продаже квартир\n"
   ]
  },
  {
   "cell_type": "markdown",
   "metadata": {},
   "source": [
    "### План выполнения проекта ###\n",
    "\n",
    "\n",
    " [Шаг 1. Изучение общей информации](#step1)\n",
    " \n",
    " \n",
    " [Шаг 2. Предобработка данных](#step2)\n",
    " \n",
    " \n",
    " [Шаг 3. Подсчет и добавление в таблицу данных](#step3)\n",
    " \n",
    " \n",
    " [Шаг 4. Исследовательский анализ данных](#step4)\n",
    " \n",
    " \n",
    " [Шаг 5. Выводы](#step5)\n",
    " "
   ]
  },
  {
   "cell_type": "markdown",
   "metadata": {},
   "source": [
    "## <a id=\"step1\">Шаг 1. Изучение общей информации </a>"
   ]
  },
  {
   "cell_type": "code",
   "execution_count": null,
   "metadata": {},
   "outputs": [],
   "source": [
    "import pandas as pd\n",
    "import seaborn as sn\n",
    "import matplotlib.pyplot as plt\n"
   ]
  },
  {
   "cell_type": "code",
   "execution_count": 1,
   "metadata": {},
   "outputs": [
    {
     "data": {
      "text/html": [
       "<div>\n",
       "<style scoped>\n",
       "    .dataframe tbody tr th:only-of-type {\n",
       "        vertical-align: middle;\n",
       "    }\n",
       "\n",
       "    .dataframe tbody tr th {\n",
       "        vertical-align: top;\n",
       "    }\n",
       "\n",
       "    .dataframe thead th {\n",
       "        text-align: right;\n",
       "    }\n",
       "</style>\n",
       "<table border=\"1\" class=\"dataframe\">\n",
       "  <thead>\n",
       "    <tr style=\"text-align: right;\">\n",
       "      <th></th>\n",
       "      <th>total_images</th>\n",
       "      <th>last_price</th>\n",
       "      <th>total_area</th>\n",
       "      <th>first_day_exposition</th>\n",
       "      <th>rooms</th>\n",
       "      <th>ceiling_height</th>\n",
       "      <th>floors_total</th>\n",
       "      <th>living_area</th>\n",
       "      <th>floor</th>\n",
       "      <th>is_apartment</th>\n",
       "      <th>...</th>\n",
       "      <th>kitchen_area</th>\n",
       "      <th>balcony</th>\n",
       "      <th>locality_name</th>\n",
       "      <th>airports_nearest</th>\n",
       "      <th>cityCenters_nearest</th>\n",
       "      <th>parks_around3000</th>\n",
       "      <th>parks_nearest</th>\n",
       "      <th>ponds_around3000</th>\n",
       "      <th>ponds_nearest</th>\n",
       "      <th>days_exposition</th>\n",
       "    </tr>\n",
       "  </thead>\n",
       "  <tbody>\n",
       "    <tr>\n",
       "      <td>0</td>\n",
       "      <td>20</td>\n",
       "      <td>13000000.0</td>\n",
       "      <td>108.0</td>\n",
       "      <td>2019-03-07T00:00:00</td>\n",
       "      <td>3</td>\n",
       "      <td>2.70</td>\n",
       "      <td>16.0</td>\n",
       "      <td>51.0</td>\n",
       "      <td>8</td>\n",
       "      <td>NaN</td>\n",
       "      <td>...</td>\n",
       "      <td>25.0</td>\n",
       "      <td>NaN</td>\n",
       "      <td>Санкт-Петербург</td>\n",
       "      <td>18863.0</td>\n",
       "      <td>16028.0</td>\n",
       "      <td>1.0</td>\n",
       "      <td>482.0</td>\n",
       "      <td>2.0</td>\n",
       "      <td>755.0</td>\n",
       "      <td>NaN</td>\n",
       "    </tr>\n",
       "    <tr>\n",
       "      <td>1</td>\n",
       "      <td>7</td>\n",
       "      <td>3350000.0</td>\n",
       "      <td>40.4</td>\n",
       "      <td>2018-12-04T00:00:00</td>\n",
       "      <td>1</td>\n",
       "      <td>NaN</td>\n",
       "      <td>11.0</td>\n",
       "      <td>18.6</td>\n",
       "      <td>1</td>\n",
       "      <td>NaN</td>\n",
       "      <td>...</td>\n",
       "      <td>11.0</td>\n",
       "      <td>2.0</td>\n",
       "      <td>посёлок Шушары</td>\n",
       "      <td>12817.0</td>\n",
       "      <td>18603.0</td>\n",
       "      <td>0.0</td>\n",
       "      <td>NaN</td>\n",
       "      <td>0.0</td>\n",
       "      <td>NaN</td>\n",
       "      <td>81.0</td>\n",
       "    </tr>\n",
       "    <tr>\n",
       "      <td>2</td>\n",
       "      <td>10</td>\n",
       "      <td>5196000.0</td>\n",
       "      <td>56.0</td>\n",
       "      <td>2015-08-20T00:00:00</td>\n",
       "      <td>2</td>\n",
       "      <td>NaN</td>\n",
       "      <td>5.0</td>\n",
       "      <td>34.3</td>\n",
       "      <td>4</td>\n",
       "      <td>NaN</td>\n",
       "      <td>...</td>\n",
       "      <td>8.3</td>\n",
       "      <td>0.0</td>\n",
       "      <td>Санкт-Петербург</td>\n",
       "      <td>21741.0</td>\n",
       "      <td>13933.0</td>\n",
       "      <td>1.0</td>\n",
       "      <td>90.0</td>\n",
       "      <td>2.0</td>\n",
       "      <td>574.0</td>\n",
       "      <td>558.0</td>\n",
       "    </tr>\n",
       "    <tr>\n",
       "      <td>3</td>\n",
       "      <td>0</td>\n",
       "      <td>64900000.0</td>\n",
       "      <td>159.0</td>\n",
       "      <td>2015-07-24T00:00:00</td>\n",
       "      <td>3</td>\n",
       "      <td>NaN</td>\n",
       "      <td>14.0</td>\n",
       "      <td>NaN</td>\n",
       "      <td>9</td>\n",
       "      <td>NaN</td>\n",
       "      <td>...</td>\n",
       "      <td>NaN</td>\n",
       "      <td>0.0</td>\n",
       "      <td>Санкт-Петербург</td>\n",
       "      <td>28098.0</td>\n",
       "      <td>6800.0</td>\n",
       "      <td>2.0</td>\n",
       "      <td>84.0</td>\n",
       "      <td>3.0</td>\n",
       "      <td>234.0</td>\n",
       "      <td>424.0</td>\n",
       "    </tr>\n",
       "    <tr>\n",
       "      <td>4</td>\n",
       "      <td>2</td>\n",
       "      <td>10000000.0</td>\n",
       "      <td>100.0</td>\n",
       "      <td>2018-06-19T00:00:00</td>\n",
       "      <td>2</td>\n",
       "      <td>3.03</td>\n",
       "      <td>14.0</td>\n",
       "      <td>32.0</td>\n",
       "      <td>13</td>\n",
       "      <td>NaN</td>\n",
       "      <td>...</td>\n",
       "      <td>41.0</td>\n",
       "      <td>NaN</td>\n",
       "      <td>Санкт-Петербург</td>\n",
       "      <td>31856.0</td>\n",
       "      <td>8098.0</td>\n",
       "      <td>2.0</td>\n",
       "      <td>112.0</td>\n",
       "      <td>1.0</td>\n",
       "      <td>48.0</td>\n",
       "      <td>121.0</td>\n",
       "    </tr>\n",
       "  </tbody>\n",
       "</table>\n",
       "<p>5 rows × 22 columns</p>\n",
       "</div>"
      ],
      "text/plain": [
       "   total_images  last_price  total_area first_day_exposition  rooms  \\\n",
       "0            20  13000000.0       108.0  2019-03-07T00:00:00      3   \n",
       "1             7   3350000.0        40.4  2018-12-04T00:00:00      1   \n",
       "2            10   5196000.0        56.0  2015-08-20T00:00:00      2   \n",
       "3             0  64900000.0       159.0  2015-07-24T00:00:00      3   \n",
       "4             2  10000000.0       100.0  2018-06-19T00:00:00      2   \n",
       "\n",
       "   ceiling_height  floors_total  living_area  floor is_apartment  ...  \\\n",
       "0            2.70          16.0         51.0      8          NaN  ...   \n",
       "1             NaN          11.0         18.6      1          NaN  ...   \n",
       "2             NaN           5.0         34.3      4          NaN  ...   \n",
       "3             NaN          14.0          NaN      9          NaN  ...   \n",
       "4            3.03          14.0         32.0     13          NaN  ...   \n",
       "\n",
       "   kitchen_area  balcony    locality_name  airports_nearest  \\\n",
       "0          25.0      NaN  Санкт-Петербург           18863.0   \n",
       "1          11.0      2.0   посёлок Шушары           12817.0   \n",
       "2           8.3      0.0  Санкт-Петербург           21741.0   \n",
       "3           NaN      0.0  Санкт-Петербург           28098.0   \n",
       "4          41.0      NaN  Санкт-Петербург           31856.0   \n",
       "\n",
       "  cityCenters_nearest  parks_around3000  parks_nearest  ponds_around3000  \\\n",
       "0             16028.0               1.0          482.0               2.0   \n",
       "1             18603.0               0.0            NaN               0.0   \n",
       "2             13933.0               1.0           90.0               2.0   \n",
       "3              6800.0               2.0           84.0               3.0   \n",
       "4              8098.0               2.0          112.0               1.0   \n",
       "\n",
       "   ponds_nearest  days_exposition  \n",
       "0          755.0              NaN  \n",
       "1            NaN             81.0  \n",
       "2          574.0            558.0  \n",
       "3          234.0            424.0  \n",
       "4           48.0            121.0  \n",
       "\n",
       "[5 rows x 22 columns]"
      ]
     },
     "metadata": {},
     "output_type": "display_data"
    },
    {
     "name": "stdout",
     "output_type": "stream",
     "text": [
      "<class 'pandas.core.frame.DataFrame'>\n",
      "RangeIndex: 23699 entries, 0 to 23698\n",
      "Data columns (total 22 columns):\n",
      "total_images            23699 non-null int64\n",
      "last_price              23699 non-null float64\n",
      "total_area              23699 non-null float64\n",
      "first_day_exposition    23699 non-null object\n",
      "rooms                   23699 non-null int64\n",
      "ceiling_height          14504 non-null float64\n",
      "floors_total            23613 non-null float64\n",
      "living_area             21796 non-null float64\n",
      "floor                   23699 non-null int64\n",
      "is_apartment            2775 non-null object\n",
      "studio                  23699 non-null bool\n",
      "open_plan               23699 non-null bool\n",
      "kitchen_area            21421 non-null float64\n",
      "balcony                 12180 non-null float64\n",
      "locality_name           23650 non-null object\n",
      "airports_nearest        18157 non-null float64\n",
      "cityCenters_nearest     18180 non-null float64\n",
      "parks_around3000        18181 non-null float64\n",
      "parks_nearest           8079 non-null float64\n",
      "ponds_around3000        18181 non-null float64\n",
      "ponds_nearest           9110 non-null float64\n",
      "days_exposition         20518 non-null float64\n",
      "dtypes: bool(2), float64(14), int64(3), object(3)\n",
      "memory usage: 3.7+ MB\n"
     ]
    }
   ],
   "source": [
    "data = pd.read_csv('/datasets/real_estate_data.csv', sep='\\t')\n",
    "display(data.head())\n",
    "data.info()"
   ]
  },
  {
   "cell_type": "markdown",
   "metadata": {},
   "source": [
    "### Вывод"
   ]
  },
  {
   "cell_type": "markdown",
   "metadata": {},
   "source": [
    "Да, похоже нужно вплотную заняться предобработкой данных до начала исследования.\n",
    "\n",
    "* **first_day_exposition**    23699 non-null object  - *привести к дате*\n",
    "* **ceiling_height**          14504 non-null float64 - *пропуски*\n",
    "* **floors_total**            23613 non-null float64 - *пропуски. привести к int (не может быть 3,20 этажей)*\n",
    "* **living_area**            21796 non-null float64 - *пропуски*\n",
    "* **is_apartment**            2775 non-null object   - *пропуски, привести к bool (скорее, это и причина пропусков)*\n",
    "* **kitchen_area**            21421 non-null float64 - *пропуски, может, где-то нет кухни?*\n",
    "* **balcony**                12180 non-null float64 - *пропуски, могут отсутствуют балконы. привести к int (не может быть 0,2                                                          балкона)*\n",
    "* **locality_name**           23650 non-null object  - *пропуски в 49 строках*\n",
    "* **airports_nearest**        18157 non-null float64 - *пропуски, может в нас. пункте нет аэропортов*\n",
    "* **cityCenters_nearest**     18180 non-null float64 - *пропуски, может нас. пункт - это не город*\n",
    "* **parks_around3000**        18181 non-null float64 - *пропуски, может не быть парков в 3 км, привести к int*\n",
    "* **parks_nearest**           8079 non-null float64  - *пропусков много, возможно из-за отсутствия парков в столбце parks_around3000*\n",
    "* **ponds_around3000**        18181 non-null float64 - *пропуски, может не быть парков в 3 км, привести к int*\n",
    "* **ponds_nearest**           9110 non-null float64  - *пропусков много, возможно из-за отсутствия парков в столбце ponds_around3000*\n",
    "* **days_exposition**         20518 non-null float64 - *пропуски, привести к int*\n",
    "\n",
    "Вывод: очень много пропусков, проверить их, возможно это логически объясняется."
   ]
  },
  {
   "cell_type": "markdown",
   "metadata": {},
   "source": [
    "## <a id=\"step2\">Шаг 2. Предобработка данных </a>"
   ]
  },
  {
   "cell_type": "markdown",
   "metadata": {},
   "source": [
    "* **first_day_exposition** \n",
    "\n",
    "Приводим данные в first_day_exposition к дате, чтоб в дальнейшем с ней работать"
   ]
  },
  {
   "cell_type": "code",
   "execution_count": 2,
   "metadata": {},
   "outputs": [
    {
     "name": "stdout",
     "output_type": "stream",
     "text": [
      "0   2019-03-07\n",
      "1   2018-12-04\n",
      "2   2015-08-20\n",
      "3   2015-07-24\n",
      "4   2018-06-19\n",
      "Name: first_day_exposition, dtype: datetime64[ns]\n"
     ]
    }
   ],
   "source": [
    "data['first_day_exposition'] = pd.to_datetime(data['first_day_exposition'], format = '%Y-%m-%dT%H:%M:%S')\n",
    "print(data['first_day_exposition'].head())\n"
   ]
  },
  {
   "cell_type": "markdown",
   "metadata": {},
   "source": [
    "* **balcony** \n",
    "\n",
    "Скорее всего, пропуски в balcony возникли там, где нет балконов. Заменим пропущенные значения на 0, приведем к int. Так как количество балконов - целочисленное значение."
   ]
  },
  {
   "cell_type": "code",
   "execution_count": 3,
   "metadata": {},
   "outputs": [],
   "source": [
    "data['balcony'] = data['balcony'].fillna(0).astype('int')"
   ]
  },
  {
   "cell_type": "markdown",
   "metadata": {},
   "source": [
    "* **floors_total**\n",
    "\n",
    "Пропуски в floors_total. Может быть, это дома, где только один этаж. "
   ]
  },
  {
   "cell_type": "code",
   "execution_count": 4,
   "metadata": {},
   "outputs": [
    {
     "data": {
      "text/html": [
       "<div>\n",
       "<style scoped>\n",
       "    .dataframe tbody tr th:only-of-type {\n",
       "        vertical-align: middle;\n",
       "    }\n",
       "\n",
       "    .dataframe tbody tr th {\n",
       "        vertical-align: top;\n",
       "    }\n",
       "\n",
       "    .dataframe thead th {\n",
       "        text-align: right;\n",
       "    }\n",
       "</style>\n",
       "<table border=\"1\" class=\"dataframe\">\n",
       "  <thead>\n",
       "    <tr style=\"text-align: right;\">\n",
       "      <th></th>\n",
       "      <th>total_images</th>\n",
       "      <th>last_price</th>\n",
       "      <th>total_area</th>\n",
       "      <th>first_day_exposition</th>\n",
       "      <th>rooms</th>\n",
       "      <th>ceiling_height</th>\n",
       "      <th>floors_total</th>\n",
       "      <th>living_area</th>\n",
       "      <th>floor</th>\n",
       "      <th>is_apartment</th>\n",
       "      <th>...</th>\n",
       "      <th>kitchen_area</th>\n",
       "      <th>balcony</th>\n",
       "      <th>locality_name</th>\n",
       "      <th>airports_nearest</th>\n",
       "      <th>cityCenters_nearest</th>\n",
       "      <th>parks_around3000</th>\n",
       "      <th>parks_nearest</th>\n",
       "      <th>ponds_around3000</th>\n",
       "      <th>ponds_nearest</th>\n",
       "      <th>days_exposition</th>\n",
       "    </tr>\n",
       "  </thead>\n",
       "  <tbody>\n",
       "    <tr>\n",
       "      <td>12352</td>\n",
       "      <td>5</td>\n",
       "      <td>19900000.0</td>\n",
       "      <td>124.32</td>\n",
       "      <td>2018-08-03</td>\n",
       "      <td>3</td>\n",
       "      <td>NaN</td>\n",
       "      <td>NaN</td>\n",
       "      <td>NaN</td>\n",
       "      <td>4</td>\n",
       "      <td>NaN</td>\n",
       "      <td>...</td>\n",
       "      <td>NaN</td>\n",
       "      <td>0</td>\n",
       "      <td>Санкт-Петербург</td>\n",
       "      <td>18978.0</td>\n",
       "      <td>4600.0</td>\n",
       "      <td>0.0</td>\n",
       "      <td>NaN</td>\n",
       "      <td>1.0</td>\n",
       "      <td>931.0</td>\n",
       "      <td>NaN</td>\n",
       "    </tr>\n",
       "    <tr>\n",
       "      <td>11328</td>\n",
       "      <td>10</td>\n",
       "      <td>5386325.0</td>\n",
       "      <td>58.13</td>\n",
       "      <td>2018-10-10</td>\n",
       "      <td>3</td>\n",
       "      <td>NaN</td>\n",
       "      <td>NaN</td>\n",
       "      <td>31.00</td>\n",
       "      <td>9</td>\n",
       "      <td>NaN</td>\n",
       "      <td>...</td>\n",
       "      <td>NaN</td>\n",
       "      <td>0</td>\n",
       "      <td>Санкт-Петербург</td>\n",
       "      <td>47303.0</td>\n",
       "      <td>25865.0</td>\n",
       "      <td>1.0</td>\n",
       "      <td>400.0</td>\n",
       "      <td>1.0</td>\n",
       "      <td>492.0</td>\n",
       "      <td>135.0</td>\n",
       "    </tr>\n",
       "    <tr>\n",
       "      <td>12399</td>\n",
       "      <td>0</td>\n",
       "      <td>2895000.0</td>\n",
       "      <td>29.61</td>\n",
       "      <td>2019-01-29</td>\n",
       "      <td>1</td>\n",
       "      <td>NaN</td>\n",
       "      <td>NaN</td>\n",
       "      <td>14.16</td>\n",
       "      <td>4</td>\n",
       "      <td>NaN</td>\n",
       "      <td>...</td>\n",
       "      <td>9.1</td>\n",
       "      <td>0</td>\n",
       "      <td>Санкт-Петербург</td>\n",
       "      <td>19533.0</td>\n",
       "      <td>18535.0</td>\n",
       "      <td>1.0</td>\n",
       "      <td>375.0</td>\n",
       "      <td>0.0</td>\n",
       "      <td>NaN</td>\n",
       "      <td>NaN</td>\n",
       "    </tr>\n",
       "    <tr>\n",
       "      <td>21753</td>\n",
       "      <td>7</td>\n",
       "      <td>6800000.0</td>\n",
       "      <td>57.00</td>\n",
       "      <td>2017-05-01</td>\n",
       "      <td>2</td>\n",
       "      <td>NaN</td>\n",
       "      <td>NaN</td>\n",
       "      <td>NaN</td>\n",
       "      <td>21</td>\n",
       "      <td>NaN</td>\n",
       "      <td>...</td>\n",
       "      <td>NaN</td>\n",
       "      <td>0</td>\n",
       "      <td>Санкт-Петербург</td>\n",
       "      <td>17618.0</td>\n",
       "      <td>14600.0</td>\n",
       "      <td>2.0</td>\n",
       "      <td>104.0</td>\n",
       "      <td>0.0</td>\n",
       "      <td>NaN</td>\n",
       "      <td>36.0</td>\n",
       "    </tr>\n",
       "    <tr>\n",
       "      <td>1757</td>\n",
       "      <td>5</td>\n",
       "      <td>3600000.0</td>\n",
       "      <td>39.00</td>\n",
       "      <td>2017-04-22</td>\n",
       "      <td>1</td>\n",
       "      <td>NaN</td>\n",
       "      <td>NaN</td>\n",
       "      <td>NaN</td>\n",
       "      <td>9</td>\n",
       "      <td>NaN</td>\n",
       "      <td>...</td>\n",
       "      <td>NaN</td>\n",
       "      <td>0</td>\n",
       "      <td>Санкт-Петербург</td>\n",
       "      <td>22735.0</td>\n",
       "      <td>11618.0</td>\n",
       "      <td>1.0</td>\n",
       "      <td>835.0</td>\n",
       "      <td>1.0</td>\n",
       "      <td>652.0</td>\n",
       "      <td>77.0</td>\n",
       "    </tr>\n",
       "  </tbody>\n",
       "</table>\n",
       "<p>5 rows × 22 columns</p>\n",
       "</div>"
      ],
      "text/plain": [
       "       total_images  last_price  total_area first_day_exposition  rooms  \\\n",
       "12352             5  19900000.0      124.32           2018-08-03      3   \n",
       "11328            10   5386325.0       58.13           2018-10-10      3   \n",
       "12399             0   2895000.0       29.61           2019-01-29      1   \n",
       "21753             7   6800000.0       57.00           2017-05-01      2   \n",
       "1757              5   3600000.0       39.00           2017-04-22      1   \n",
       "\n",
       "       ceiling_height  floors_total  living_area  floor is_apartment  ...  \\\n",
       "12352             NaN           NaN          NaN      4          NaN  ...   \n",
       "11328             NaN           NaN        31.00      9          NaN  ...   \n",
       "12399             NaN           NaN        14.16      4          NaN  ...   \n",
       "21753             NaN           NaN          NaN     21          NaN  ...   \n",
       "1757              NaN           NaN          NaN      9          NaN  ...   \n",
       "\n",
       "       kitchen_area  balcony    locality_name  airports_nearest  \\\n",
       "12352           NaN        0  Санкт-Петербург           18978.0   \n",
       "11328           NaN        0  Санкт-Петербург           47303.0   \n",
       "12399           9.1        0  Санкт-Петербург           19533.0   \n",
       "21753           NaN        0  Санкт-Петербург           17618.0   \n",
       "1757            NaN        0  Санкт-Петербург           22735.0   \n",
       "\n",
       "      cityCenters_nearest  parks_around3000  parks_nearest  ponds_around3000  \\\n",
       "12352              4600.0               0.0            NaN               1.0   \n",
       "11328             25865.0               1.0          400.0               1.0   \n",
       "12399             18535.0               1.0          375.0               0.0   \n",
       "21753             14600.0               2.0          104.0               0.0   \n",
       "1757              11618.0               1.0          835.0               1.0   \n",
       "\n",
       "       ponds_nearest  days_exposition  \n",
       "12352          931.0              NaN  \n",
       "11328          492.0            135.0  \n",
       "12399            NaN              NaN  \n",
       "21753            NaN             36.0  \n",
       "1757           652.0             77.0  \n",
       "\n",
       "[5 rows x 22 columns]"
      ]
     },
     "metadata": {},
     "output_type": "display_data"
    },
    {
     "data": {
      "text/plain": [
       "count    23613.000000\n",
       "mean        10.673824\n",
       "std          6.597173\n",
       "min          1.000000\n",
       "25%          5.000000\n",
       "50%          9.000000\n",
       "75%         16.000000\n",
       "max         60.000000\n",
       "Name: floors_total, dtype: float64"
      ]
     },
     "metadata": {},
     "output_type": "display_data"
    },
    {
     "name": "stdout",
     "output_type": "stream",
     "text": [
      "Процент пропусков в столбце floors_total: 0.4%\n"
     ]
    }
   ],
   "source": [
    "display(data[data['floors_total'].isna()].sample(5)) \n",
    "display(data['floors_total'].describe())\n",
    "print('Процент пропусков в столбце floors_total: {:.1%}'.format(data['floors_total'].isna().sum()/len(data)))"
   ]
  },
  {
   "cell_type": "markdown",
   "metadata": {},
   "source": [
    "Логическая зависимость от других данных вряд ли есть. \n",
    "Пропусков в этом столбце менее 1%, их удаление не повредит анализу.\n",
    "И приводим к int, так как количество этаже - целочисленное значение."
   ]
  },
  {
   "cell_type": "code",
   "execution_count": 5,
   "metadata": {},
   "outputs": [],
   "source": [
    "data.dropna(subset=['floors_total'], inplace=True)\n",
    "data['floors_total'] = data['floors_total'].astype('int')"
   ]
  },
  {
   "cell_type": "markdown",
   "metadata": {},
   "source": [
    "* **ceiling_height**\n",
    "\n",
    "Взглянем на пропуски, а также на статистическое описание данного столбца"
   ]
  },
  {
   "cell_type": "code",
   "execution_count": 6,
   "metadata": {},
   "outputs": [
    {
     "data": {
      "text/html": [
       "<div>\n",
       "<style scoped>\n",
       "    .dataframe tbody tr th:only-of-type {\n",
       "        vertical-align: middle;\n",
       "    }\n",
       "\n",
       "    .dataframe tbody tr th {\n",
       "        vertical-align: top;\n",
       "    }\n",
       "\n",
       "    .dataframe thead th {\n",
       "        text-align: right;\n",
       "    }\n",
       "</style>\n",
       "<table border=\"1\" class=\"dataframe\">\n",
       "  <thead>\n",
       "    <tr style=\"text-align: right;\">\n",
       "      <th></th>\n",
       "      <th>total_images</th>\n",
       "      <th>last_price</th>\n",
       "      <th>total_area</th>\n",
       "      <th>first_day_exposition</th>\n",
       "      <th>rooms</th>\n",
       "      <th>ceiling_height</th>\n",
       "      <th>floors_total</th>\n",
       "      <th>living_area</th>\n",
       "      <th>floor</th>\n",
       "      <th>is_apartment</th>\n",
       "      <th>...</th>\n",
       "      <th>kitchen_area</th>\n",
       "      <th>balcony</th>\n",
       "      <th>locality_name</th>\n",
       "      <th>airports_nearest</th>\n",
       "      <th>cityCenters_nearest</th>\n",
       "      <th>parks_around3000</th>\n",
       "      <th>parks_nearest</th>\n",
       "      <th>ponds_around3000</th>\n",
       "      <th>ponds_nearest</th>\n",
       "      <th>days_exposition</th>\n",
       "    </tr>\n",
       "  </thead>\n",
       "  <tbody>\n",
       "    <tr>\n",
       "      <td>9696</td>\n",
       "      <td>11</td>\n",
       "      <td>850000.0</td>\n",
       "      <td>52.0</td>\n",
       "      <td>2019-02-26</td>\n",
       "      <td>2</td>\n",
       "      <td>NaN</td>\n",
       "      <td>5</td>\n",
       "      <td>30.0</td>\n",
       "      <td>4</td>\n",
       "      <td>NaN</td>\n",
       "      <td>...</td>\n",
       "      <td>9.0</td>\n",
       "      <td>1</td>\n",
       "      <td>деревня Торошковичи</td>\n",
       "      <td>NaN</td>\n",
       "      <td>NaN</td>\n",
       "      <td>NaN</td>\n",
       "      <td>NaN</td>\n",
       "      <td>NaN</td>\n",
       "      <td>NaN</td>\n",
       "      <td>NaN</td>\n",
       "    </tr>\n",
       "    <tr>\n",
       "      <td>8923</td>\n",
       "      <td>16</td>\n",
       "      <td>4300000.0</td>\n",
       "      <td>34.0</td>\n",
       "      <td>2018-09-30</td>\n",
       "      <td>1</td>\n",
       "      <td>NaN</td>\n",
       "      <td>10</td>\n",
       "      <td>17.5</td>\n",
       "      <td>6</td>\n",
       "      <td>NaN</td>\n",
       "      <td>...</td>\n",
       "      <td>7.0</td>\n",
       "      <td>1</td>\n",
       "      <td>Санкт-Петербург</td>\n",
       "      <td>10596.0</td>\n",
       "      <td>13971.0</td>\n",
       "      <td>0.0</td>\n",
       "      <td>NaN</td>\n",
       "      <td>0.0</td>\n",
       "      <td>NaN</td>\n",
       "      <td>6.0</td>\n",
       "    </tr>\n",
       "    <tr>\n",
       "      <td>13207</td>\n",
       "      <td>9</td>\n",
       "      <td>5450000.0</td>\n",
       "      <td>54.0</td>\n",
       "      <td>2015-02-09</td>\n",
       "      <td>2</td>\n",
       "      <td>NaN</td>\n",
       "      <td>22</td>\n",
       "      <td>29.0</td>\n",
       "      <td>11</td>\n",
       "      <td>NaN</td>\n",
       "      <td>...</td>\n",
       "      <td>10.0</td>\n",
       "      <td>0</td>\n",
       "      <td>Санкт-Петербург</td>\n",
       "      <td>17730.0</td>\n",
       "      <td>16527.0</td>\n",
       "      <td>0.0</td>\n",
       "      <td>NaN</td>\n",
       "      <td>2.0</td>\n",
       "      <td>350.0</td>\n",
       "      <td>1079.0</td>\n",
       "    </tr>\n",
       "    <tr>\n",
       "      <td>1663</td>\n",
       "      <td>11</td>\n",
       "      <td>7650000.0</td>\n",
       "      <td>67.0</td>\n",
       "      <td>2017-10-18</td>\n",
       "      <td>2</td>\n",
       "      <td>NaN</td>\n",
       "      <td>13</td>\n",
       "      <td>37.5</td>\n",
       "      <td>13</td>\n",
       "      <td>NaN</td>\n",
       "      <td>...</td>\n",
       "      <td>10.6</td>\n",
       "      <td>1</td>\n",
       "      <td>Санкт-Петербург</td>\n",
       "      <td>33756.0</td>\n",
       "      <td>13625.0</td>\n",
       "      <td>0.0</td>\n",
       "      <td>NaN</td>\n",
       "      <td>0.0</td>\n",
       "      <td>NaN</td>\n",
       "      <td>6.0</td>\n",
       "    </tr>\n",
       "    <tr>\n",
       "      <td>15091</td>\n",
       "      <td>9</td>\n",
       "      <td>2000000.0</td>\n",
       "      <td>55.5</td>\n",
       "      <td>2018-02-26</td>\n",
       "      <td>2</td>\n",
       "      <td>NaN</td>\n",
       "      <td>5</td>\n",
       "      <td>31.0</td>\n",
       "      <td>5</td>\n",
       "      <td>NaN</td>\n",
       "      <td>...</td>\n",
       "      <td>9.0</td>\n",
       "      <td>0</td>\n",
       "      <td>деревня Сяськелево</td>\n",
       "      <td>NaN</td>\n",
       "      <td>NaN</td>\n",
       "      <td>NaN</td>\n",
       "      <td>NaN</td>\n",
       "      <td>NaN</td>\n",
       "      <td>NaN</td>\n",
       "      <td>357.0</td>\n",
       "    </tr>\n",
       "  </tbody>\n",
       "</table>\n",
       "<p>5 rows × 22 columns</p>\n",
       "</div>"
      ],
      "text/plain": [
       "       total_images  last_price  total_area first_day_exposition  rooms  \\\n",
       "9696             11    850000.0        52.0           2019-02-26      2   \n",
       "8923             16   4300000.0        34.0           2018-09-30      1   \n",
       "13207             9   5450000.0        54.0           2015-02-09      2   \n",
       "1663             11   7650000.0        67.0           2017-10-18      2   \n",
       "15091             9   2000000.0        55.5           2018-02-26      2   \n",
       "\n",
       "       ceiling_height  floors_total  living_area  floor is_apartment  ...  \\\n",
       "9696              NaN             5         30.0      4          NaN  ...   \n",
       "8923              NaN            10         17.5      6          NaN  ...   \n",
       "13207             NaN            22         29.0     11          NaN  ...   \n",
       "1663              NaN            13         37.5     13          NaN  ...   \n",
       "15091             NaN             5         31.0      5          NaN  ...   \n",
       "\n",
       "       kitchen_area  balcony        locality_name  airports_nearest  \\\n",
       "9696            9.0        1  деревня Торошковичи               NaN   \n",
       "8923            7.0        1      Санкт-Петербург           10596.0   \n",
       "13207          10.0        0      Санкт-Петербург           17730.0   \n",
       "1663           10.6        1      Санкт-Петербург           33756.0   \n",
       "15091           9.0        0   деревня Сяськелево               NaN   \n",
       "\n",
       "      cityCenters_nearest  parks_around3000  parks_nearest  ponds_around3000  \\\n",
       "9696                  NaN               NaN            NaN               NaN   \n",
       "8923              13971.0               0.0            NaN               0.0   \n",
       "13207             16527.0               0.0            NaN               2.0   \n",
       "1663              13625.0               0.0            NaN               0.0   \n",
       "15091                 NaN               NaN            NaN               NaN   \n",
       "\n",
       "       ponds_nearest  days_exposition  \n",
       "9696             NaN              NaN  \n",
       "8923             NaN              6.0  \n",
       "13207          350.0           1079.0  \n",
       "1663             NaN              6.0  \n",
       "15091            NaN            357.0  \n",
       "\n",
       "[5 rows x 22 columns]"
      ]
     },
     "metadata": {},
     "output_type": "display_data"
    },
    {
     "name": "stdout",
     "output_type": "stream",
     "text": [
      "count    14495.000000\n",
      "mean         2.771495\n",
      "std          1.261445\n",
      "min          1.000000\n",
      "25%          2.520000\n",
      "50%          2.650000\n",
      "75%          2.800000\n",
      "max        100.000000\n",
      "Name: ceiling_height, dtype: float64\n"
     ]
    }
   ],
   "source": [
    "display(data[data['ceiling_height'].isna()].sample(5)) \n",
    "print(data['ceiling_height'].describe())\n"
   ]
  },
  {
   "cell_type": "markdown",
   "metadata": {},
   "source": [
    "Стандартное отклонение меньше среднего, среднее и медиана примерно равны, можно брать либо медиану, либо среднее для заполнения пропущенных значений. "
   ]
  },
  {
   "cell_type": "code",
   "execution_count": 7,
   "metadata": {
    "scrolled": false
   },
   "outputs": [
    {
     "name": "stdout",
     "output_type": "stream",
     "text": [
      "Средняя высота потолка составляет: 2.65\n",
      "<class 'pandas.core.frame.DataFrame'>\n",
      "Int64Index: 23613 entries, 0 to 23698\n",
      "Data columns (total 22 columns):\n",
      "total_images            23613 non-null int64\n",
      "last_price              23613 non-null float64\n",
      "total_area              23613 non-null float64\n",
      "first_day_exposition    23613 non-null datetime64[ns]\n",
      "rooms                   23613 non-null int64\n",
      "ceiling_height          23613 non-null float64\n",
      "floors_total            23613 non-null int64\n",
      "living_area             21743 non-null float64\n",
      "floor                   23613 non-null int64\n",
      "is_apartment            2775 non-null object\n",
      "studio                  23613 non-null bool\n",
      "open_plan               23613 non-null bool\n",
      "kitchen_area            21382 non-null float64\n",
      "balcony                 23613 non-null int64\n",
      "locality_name           23565 non-null object\n",
      "airports_nearest        18081 non-null float64\n",
      "cityCenters_nearest     18104 non-null float64\n",
      "parks_around3000        18105 non-null float64\n",
      "parks_nearest           8045 non-null float64\n",
      "ponds_around3000        18105 non-null float64\n",
      "ponds_nearest           9061 non-null float64\n",
      "days_exposition         20441 non-null float64\n",
      "dtypes: bool(2), datetime64[ns](1), float64(12), int64(5), object(2)\n",
      "memory usage: 3.8+ MB\n"
     ]
    }
   ],
   "source": [
    "print('Средняя высота потолка составляет: {:.2f}'.format(data['ceiling_height'].median()))\n",
    "data['ceiling_height'] = data['ceiling_height'].fillna(data['ceiling_height'].median())\n",
    "data.info()"
   ]
  },
  {
   "cell_type": "markdown",
   "metadata": {},
   "source": [
    "* **is_apartment**\n",
    "\n",
    "Апартаменты - вид жилья, который встречается очень редко. Заполним данные пропуски False."
   ]
  },
  {
   "cell_type": "code",
   "execution_count": 8,
   "metadata": {},
   "outputs": [
    {
     "name": "stdout",
     "output_type": "stream",
     "text": [
      "NaN      20838\n",
      "False     2725\n",
      "True        50\n",
      "Name: is_apartment, dtype: int64\n",
      "<class 'pandas.core.frame.DataFrame'>\n",
      "Int64Index: 23613 entries, 0 to 23698\n",
      "Data columns (total 22 columns):\n",
      "total_images            23613 non-null int64\n",
      "last_price              23613 non-null float64\n",
      "total_area              23613 non-null float64\n",
      "first_day_exposition    23613 non-null datetime64[ns]\n",
      "rooms                   23613 non-null int64\n",
      "ceiling_height          23613 non-null float64\n",
      "floors_total            23613 non-null int64\n",
      "living_area             21743 non-null float64\n",
      "floor                   23613 non-null int64\n",
      "is_apartment            23613 non-null bool\n",
      "studio                  23613 non-null bool\n",
      "open_plan               23613 non-null bool\n",
      "kitchen_area            21382 non-null float64\n",
      "balcony                 23613 non-null int64\n",
      "locality_name           23565 non-null object\n",
      "airports_nearest        18081 non-null float64\n",
      "cityCenters_nearest     18104 non-null float64\n",
      "parks_around3000        18105 non-null float64\n",
      "parks_nearest           8045 non-null float64\n",
      "ponds_around3000        18105 non-null float64\n",
      "ponds_nearest           9061 non-null float64\n",
      "days_exposition         20441 non-null float64\n",
      "dtypes: bool(3), datetime64[ns](1), float64(12), int64(5), object(1)\n",
      "memory usage: 3.7+ MB\n"
     ]
    }
   ],
   "source": [
    "print(data['is_apartment'].value_counts(dropna=False)) \n",
    "data['is_apartment'] = data['is_apartment'].fillna(False)\n",
    "data.info()"
   ]
  },
  {
   "cell_type": "markdown",
   "metadata": {},
   "source": [
    "* **living_area и kitchen_area**\n",
    "\n",
    "Так как эти значения по большей части зависят от общей площади, можно рассчитать квантили в столбце total_area и по квинтилям присвоить значения нашим столбцам.\n"
   ]
  },
  {
   "cell_type": "code",
   "execution_count": 9,
   "metadata": {},
   "outputs": [
    {
     "name": "stdout",
     "output_type": "stream",
     "text": [
      "1870\n",
      "2231\n",
      "count    21743.000000\n",
      "mean        34.462781\n",
      "std         22.037433\n",
      "min          2.000000\n",
      "25%         18.600000\n",
      "50%         30.000000\n",
      "75%         42.300000\n",
      "max        409.700000\n",
      "Name: living_area, dtype: float64\n",
      "count    21382.000000\n",
      "mean        10.564128\n",
      "std          5.904316\n",
      "min          1.300000\n",
      "25%          7.000000\n",
      "50%          9.100000\n",
      "75%         12.000000\n",
      "max        112.000000\n",
      "Name: kitchen_area, dtype: float64\n"
     ]
    }
   ],
   "source": [
    "print(data['living_area'].isna().sum())\n",
    "print(data['kitchen_area'].isna().sum())\n",
    "\n",
    "print(data['living_area'].describe())\n",
    "print(data['kitchen_area'].describe())\n",
    "\n",
    "quantiles = [0.25, 0.5, 0.75]"
   ]
  },
  {
   "cell_type": "code",
   "execution_count": 10,
   "metadata": {},
   "outputs": [
    {
     "name": "stdout",
     "output_type": "stream",
     "text": [
      "<class 'pandas.core.frame.DataFrame'>\n",
      "Int64Index: 23613 entries, 0 to 23698\n",
      "Data columns (total 22 columns):\n",
      "total_images            23613 non-null int64\n",
      "last_price              23613 non-null float64\n",
      "total_area              23613 non-null float64\n",
      "first_day_exposition    23613 non-null datetime64[ns]\n",
      "rooms                   23613 non-null int64\n",
      "ceiling_height          23613 non-null float64\n",
      "floors_total            23613 non-null int64\n",
      "living_area             23613 non-null float64\n",
      "floor                   23613 non-null int64\n",
      "is_apartment            23613 non-null bool\n",
      "studio                  23613 non-null bool\n",
      "open_plan               23613 non-null bool\n",
      "kitchen_area            23613 non-null float64\n",
      "balcony                 23613 non-null int64\n",
      "locality_name           23565 non-null object\n",
      "airports_nearest        18081 non-null float64\n",
      "cityCenters_nearest     18104 non-null float64\n",
      "parks_around3000        18105 non-null float64\n",
      "parks_nearest           8045 non-null float64\n",
      "ponds_around3000        18105 non-null float64\n",
      "ponds_nearest           9061 non-null float64\n",
      "days_exposition         20441 non-null float64\n",
      "dtypes: bool(3), datetime64[ns](1), float64(12), int64(5), object(1)\n",
      "memory usage: 3.7+ MB\n"
     ]
    }
   ],
   "source": [
    "def fill_nan_area(data):\n",
    "    # Функция итерирует список с квантилямя и при условии, что значение в столбце total_area меньше следующего квантиля\n",
    "    # этого столбца, заполняет пропущенные значения данного квантиля столбцов kitchen_area и Living_area\n",
    "    for x in quantiles:\n",
    "        total_area = data['total_area']\n",
    "        data.loc[total_area <= total_area.quantile(x+0.25), 'living_area'] = data.loc[\n",
    "            total_area <= total_area.quantile(x+0.25), 'living_area'].fillna(data['living_area'].quantile(x))\n",
    "        data.loc[total_area <= total_area.quantile(x+0.25), 'kitchen_area'] = data.loc[\n",
    "            total_area <= total_area.quantile(x+0.25), 'kitchen_area'].fillna(data['kitchen_area'].quantile(x))\n",
    "\n",
    "fill_nan_area(data)\n",
    "data.info()"
   ]
  },
  {
   "cell_type": "markdown",
   "metadata": {},
   "source": [
    "* **locality_name**\n",
    "\n",
    "Проанализируем пропуски в locality_name \n"
   ]
  },
  {
   "cell_type": "code",
   "execution_count": 11,
   "metadata": {},
   "outputs": [
    {
     "data": {
      "text/html": [
       "<div>\n",
       "<style scoped>\n",
       "    .dataframe tbody tr th:only-of-type {\n",
       "        vertical-align: middle;\n",
       "    }\n",
       "\n",
       "    .dataframe tbody tr th {\n",
       "        vertical-align: top;\n",
       "    }\n",
       "\n",
       "    .dataframe thead th {\n",
       "        text-align: right;\n",
       "    }\n",
       "</style>\n",
       "<table border=\"1\" class=\"dataframe\">\n",
       "  <thead>\n",
       "    <tr style=\"text-align: right;\">\n",
       "      <th></th>\n",
       "      <th>total_images</th>\n",
       "      <th>last_price</th>\n",
       "      <th>total_area</th>\n",
       "      <th>first_day_exposition</th>\n",
       "      <th>rooms</th>\n",
       "      <th>ceiling_height</th>\n",
       "      <th>floors_total</th>\n",
       "      <th>living_area</th>\n",
       "      <th>floor</th>\n",
       "      <th>is_apartment</th>\n",
       "      <th>...</th>\n",
       "      <th>kitchen_area</th>\n",
       "      <th>balcony</th>\n",
       "      <th>locality_name</th>\n",
       "      <th>airports_nearest</th>\n",
       "      <th>cityCenters_nearest</th>\n",
       "      <th>parks_around3000</th>\n",
       "      <th>parks_nearest</th>\n",
       "      <th>ponds_around3000</th>\n",
       "      <th>ponds_nearest</th>\n",
       "      <th>days_exposition</th>\n",
       "    </tr>\n",
       "  </thead>\n",
       "  <tbody>\n",
       "    <tr>\n",
       "      <td>13690</td>\n",
       "      <td>7</td>\n",
       "      <td>3500000.0</td>\n",
       "      <td>71.0</td>\n",
       "      <td>2016-06-23</td>\n",
       "      <td>3</td>\n",
       "      <td>2.75</td>\n",
       "      <td>2</td>\n",
       "      <td>45.6</td>\n",
       "      <td>1</td>\n",
       "      <td>False</td>\n",
       "      <td>...</td>\n",
       "      <td>8.0</td>\n",
       "      <td>2</td>\n",
       "      <td>NaN</td>\n",
       "      <td>20234.0</td>\n",
       "      <td>23659.0</td>\n",
       "      <td>0.0</td>\n",
       "      <td>NaN</td>\n",
       "      <td>2.0</td>\n",
       "      <td>296.0</td>\n",
       "      <td>92.0</td>\n",
       "    </tr>\n",
       "    <tr>\n",
       "      <td>18526</td>\n",
       "      <td>3</td>\n",
       "      <td>10800000.0</td>\n",
       "      <td>86.0</td>\n",
       "      <td>2016-06-24</td>\n",
       "      <td>4</td>\n",
       "      <td>3.20</td>\n",
       "      <td>7</td>\n",
       "      <td>48.0</td>\n",
       "      <td>2</td>\n",
       "      <td>False</td>\n",
       "      <td>...</td>\n",
       "      <td>12.0</td>\n",
       "      <td>0</td>\n",
       "      <td>NaN</td>\n",
       "      <td>11206.0</td>\n",
       "      <td>8943.0</td>\n",
       "      <td>0.0</td>\n",
       "      <td>NaN</td>\n",
       "      <td>0.0</td>\n",
       "      <td>NaN</td>\n",
       "      <td>65.0</td>\n",
       "    </tr>\n",
       "    <tr>\n",
       "      <td>14342</td>\n",
       "      <td>3</td>\n",
       "      <td>3611000.0</td>\n",
       "      <td>53.5</td>\n",
       "      <td>2017-04-27</td>\n",
       "      <td>1</td>\n",
       "      <td>2.65</td>\n",
       "      <td>4</td>\n",
       "      <td>25.8</td>\n",
       "      <td>3</td>\n",
       "      <td>False</td>\n",
       "      <td>...</td>\n",
       "      <td>9.0</td>\n",
       "      <td>1</td>\n",
       "      <td>NaN</td>\n",
       "      <td>NaN</td>\n",
       "      <td>NaN</td>\n",
       "      <td>NaN</td>\n",
       "      <td>NaN</td>\n",
       "      <td>NaN</td>\n",
       "      <td>NaN</td>\n",
       "      <td>92.0</td>\n",
       "    </tr>\n",
       "    <tr>\n",
       "      <td>7330</td>\n",
       "      <td>8</td>\n",
       "      <td>5100000.0</td>\n",
       "      <td>63.0</td>\n",
       "      <td>2015-01-27</td>\n",
       "      <td>3</td>\n",
       "      <td>2.65</td>\n",
       "      <td>5</td>\n",
       "      <td>42.0</td>\n",
       "      <td>1</td>\n",
       "      <td>False</td>\n",
       "      <td>...</td>\n",
       "      <td>7.5</td>\n",
       "      <td>0</td>\n",
       "      <td>NaN</td>\n",
       "      <td>25925.0</td>\n",
       "      <td>4627.0</td>\n",
       "      <td>2.0</td>\n",
       "      <td>459.0</td>\n",
       "      <td>0.0</td>\n",
       "      <td>NaN</td>\n",
       "      <td>566.0</td>\n",
       "    </tr>\n",
       "    <tr>\n",
       "      <td>15686</td>\n",
       "      <td>13</td>\n",
       "      <td>4700000.0</td>\n",
       "      <td>44.0</td>\n",
       "      <td>2015-12-01</td>\n",
       "      <td>2</td>\n",
       "      <td>2.65</td>\n",
       "      <td>5</td>\n",
       "      <td>28.0</td>\n",
       "      <td>3</td>\n",
       "      <td>False</td>\n",
       "      <td>...</td>\n",
       "      <td>5.0</td>\n",
       "      <td>0</td>\n",
       "      <td>NaN</td>\n",
       "      <td>35920.0</td>\n",
       "      <td>9633.0</td>\n",
       "      <td>2.0</td>\n",
       "      <td>472.0</td>\n",
       "      <td>3.0</td>\n",
       "      <td>535.0</td>\n",
       "      <td>280.0</td>\n",
       "    </tr>\n",
       "    <tr>\n",
       "      <td>10122</td>\n",
       "      <td>5</td>\n",
       "      <td>8200000.0</td>\n",
       "      <td>83.0</td>\n",
       "      <td>2015-06-24</td>\n",
       "      <td>4</td>\n",
       "      <td>2.65</td>\n",
       "      <td>5</td>\n",
       "      <td>53.0</td>\n",
       "      <td>2</td>\n",
       "      <td>False</td>\n",
       "      <td>...</td>\n",
       "      <td>10.0</td>\n",
       "      <td>0</td>\n",
       "      <td>NaN</td>\n",
       "      <td>25771.0</td>\n",
       "      <td>4474.0</td>\n",
       "      <td>2.0</td>\n",
       "      <td>374.0</td>\n",
       "      <td>0.0</td>\n",
       "      <td>NaN</td>\n",
       "      <td>364.0</td>\n",
       "    </tr>\n",
       "    <tr>\n",
       "      <td>14273</td>\n",
       "      <td>2</td>\n",
       "      <td>4422000.0</td>\n",
       "      <td>60.0</td>\n",
       "      <td>2016-03-23</td>\n",
       "      <td>2</td>\n",
       "      <td>2.75</td>\n",
       "      <td>23</td>\n",
       "      <td>32.0</td>\n",
       "      <td>14</td>\n",
       "      <td>False</td>\n",
       "      <td>...</td>\n",
       "      <td>11.9</td>\n",
       "      <td>0</td>\n",
       "      <td>NaN</td>\n",
       "      <td>22041.0</td>\n",
       "      <td>17369.0</td>\n",
       "      <td>0.0</td>\n",
       "      <td>NaN</td>\n",
       "      <td>1.0</td>\n",
       "      <td>374.0</td>\n",
       "      <td>90.0</td>\n",
       "    </tr>\n",
       "    <tr>\n",
       "      <td>21276</td>\n",
       "      <td>0</td>\n",
       "      <td>17122148.0</td>\n",
       "      <td>178.3</td>\n",
       "      <td>2017-02-10</td>\n",
       "      <td>1</td>\n",
       "      <td>2.65</td>\n",
       "      <td>3</td>\n",
       "      <td>41.7</td>\n",
       "      <td>1</td>\n",
       "      <td>False</td>\n",
       "      <td>...</td>\n",
       "      <td>41.6</td>\n",
       "      <td>1</td>\n",
       "      <td>NaN</td>\n",
       "      <td>60195.0</td>\n",
       "      <td>41294.0</td>\n",
       "      <td>0.0</td>\n",
       "      <td>NaN</td>\n",
       "      <td>0.0</td>\n",
       "      <td>NaN</td>\n",
       "      <td>4.0</td>\n",
       "    </tr>\n",
       "    <tr>\n",
       "      <td>16499</td>\n",
       "      <td>2</td>\n",
       "      <td>4995573.0</td>\n",
       "      <td>56.9</td>\n",
       "      <td>2016-06-17</td>\n",
       "      <td>2</td>\n",
       "      <td>2.65</td>\n",
       "      <td>24</td>\n",
       "      <td>29.2</td>\n",
       "      <td>14</td>\n",
       "      <td>False</td>\n",
       "      <td>...</td>\n",
       "      <td>10.9</td>\n",
       "      <td>0</td>\n",
       "      <td>NaN</td>\n",
       "      <td>22041.0</td>\n",
       "      <td>17369.0</td>\n",
       "      <td>0.0</td>\n",
       "      <td>NaN</td>\n",
       "      <td>1.0</td>\n",
       "      <td>374.0</td>\n",
       "      <td>4.0</td>\n",
       "    </tr>\n",
       "    <tr>\n",
       "      <td>17764</td>\n",
       "      <td>9</td>\n",
       "      <td>8400000.0</td>\n",
       "      <td>94.0</td>\n",
       "      <td>2016-01-24</td>\n",
       "      <td>3</td>\n",
       "      <td>2.65</td>\n",
       "      <td>23</td>\n",
       "      <td>52.0</td>\n",
       "      <td>5</td>\n",
       "      <td>False</td>\n",
       "      <td>...</td>\n",
       "      <td>11.5</td>\n",
       "      <td>0</td>\n",
       "      <td>NaN</td>\n",
       "      <td>36865.0</td>\n",
       "      <td>10976.0</td>\n",
       "      <td>0.0</td>\n",
       "      <td>NaN</td>\n",
       "      <td>1.0</td>\n",
       "      <td>856.0</td>\n",
       "      <td>305.0</td>\n",
       "    </tr>\n",
       "  </tbody>\n",
       "</table>\n",
       "<p>10 rows × 22 columns</p>\n",
       "</div>"
      ],
      "text/plain": [
       "       total_images  last_price  total_area first_day_exposition  rooms  \\\n",
       "13690             7   3500000.0        71.0           2016-06-23      3   \n",
       "18526             3  10800000.0        86.0           2016-06-24      4   \n",
       "14342             3   3611000.0        53.5           2017-04-27      1   \n",
       "7330              8   5100000.0        63.0           2015-01-27      3   \n",
       "15686            13   4700000.0        44.0           2015-12-01      2   \n",
       "10122             5   8200000.0        83.0           2015-06-24      4   \n",
       "14273             2   4422000.0        60.0           2016-03-23      2   \n",
       "21276             0  17122148.0       178.3           2017-02-10      1   \n",
       "16499             2   4995573.0        56.9           2016-06-17      2   \n",
       "17764             9   8400000.0        94.0           2016-01-24      3   \n",
       "\n",
       "       ceiling_height  floors_total  living_area  floor  is_apartment  ...  \\\n",
       "13690            2.75             2         45.6      1         False  ...   \n",
       "18526            3.20             7         48.0      2         False  ...   \n",
       "14342            2.65             4         25.8      3         False  ...   \n",
       "7330             2.65             5         42.0      1         False  ...   \n",
       "15686            2.65             5         28.0      3         False  ...   \n",
       "10122            2.65             5         53.0      2         False  ...   \n",
       "14273            2.75            23         32.0     14         False  ...   \n",
       "21276            2.65             3         41.7      1         False  ...   \n",
       "16499            2.65            24         29.2     14         False  ...   \n",
       "17764            2.65            23         52.0      5         False  ...   \n",
       "\n",
       "       kitchen_area  balcony  locality_name  airports_nearest  \\\n",
       "13690           8.0        2            NaN           20234.0   \n",
       "18526          12.0        0            NaN           11206.0   \n",
       "14342           9.0        1            NaN               NaN   \n",
       "7330            7.5        0            NaN           25925.0   \n",
       "15686           5.0        0            NaN           35920.0   \n",
       "10122          10.0        0            NaN           25771.0   \n",
       "14273          11.9        0            NaN           22041.0   \n",
       "21276          41.6        1            NaN           60195.0   \n",
       "16499          10.9        0            NaN           22041.0   \n",
       "17764          11.5        0            NaN           36865.0   \n",
       "\n",
       "      cityCenters_nearest  parks_around3000  parks_nearest  ponds_around3000  \\\n",
       "13690             23659.0               0.0            NaN               2.0   \n",
       "18526              8943.0               0.0            NaN               0.0   \n",
       "14342                 NaN               NaN            NaN               NaN   \n",
       "7330               4627.0               2.0          459.0               0.0   \n",
       "15686              9633.0               2.0          472.0               3.0   \n",
       "10122              4474.0               2.0          374.0               0.0   \n",
       "14273             17369.0               0.0            NaN               1.0   \n",
       "21276             41294.0               0.0            NaN               0.0   \n",
       "16499             17369.0               0.0            NaN               1.0   \n",
       "17764             10976.0               0.0            NaN               1.0   \n",
       "\n",
       "       ponds_nearest  days_exposition  \n",
       "13690          296.0             92.0  \n",
       "18526            NaN             65.0  \n",
       "14342            NaN             92.0  \n",
       "7330             NaN            566.0  \n",
       "15686          535.0            280.0  \n",
       "10122            NaN            364.0  \n",
       "14273          374.0             90.0  \n",
       "21276            NaN              4.0  \n",
       "16499          374.0              4.0  \n",
       "17764          856.0            305.0  \n",
       "\n",
       "[10 rows x 22 columns]"
      ]
     },
     "metadata": {},
     "output_type": "display_data"
    },
    {
     "name": "stdout",
     "output_type": "stream",
     "text": [
      "Санкт-Петербург                      0.664163\n",
      "посёлок Мурино                       0.022067\n",
      "посёлок Шушары                       0.018629\n",
      "Всеволожск                           0.016889\n",
      "Пушкин                               0.015659\n",
      "                                       ...   \n",
      "деревня Кисельня                     0.000042\n",
      "деревня Ялгино                       0.000042\n",
      "садовое товарищество Приладожский    0.000042\n",
      "деревня Иссад                        0.000042\n",
      "село Шум                             0.000042\n",
      "Name: locality_name, Length: 364, dtype: float64\n",
      "Процент пропусков в столбце locality_name: 0.2%\n"
     ]
    }
   ],
   "source": [
    "display(data[data['locality_name'].isnull()].sample(10))\n",
    "print(data['locality_name'].value_counts(normalize=True))\n",
    "print('Процент пропусков в столбце locality_name: {:.1%}'.format(data['locality_name'].isna().sum()/len(data)))"
   ]
  },
  {
   "cell_type": "markdown",
   "metadata": {},
   "source": [
    "Пропусков мало, нет показателей, который смогли бы нам подсказать, какой именно это населенный пункт. \n",
    "Так как значений немного, около 0.2%, удалим пропущенные значения.\n",
    "Невооруженным взглядом видны возможные дубликаты, связанные с написанием слова посЁлок. \n",
    "Тем не менее, мы не будем на данном этапе разбирать эти дубликаты, так как задач проанализировать продажи квартир по каждому населенному пункту, у нас не стоит."
   ]
  },
  {
   "cell_type": "code",
   "execution_count": 12,
   "metadata": {},
   "outputs": [],
   "source": [
    "data.dropna(subset=['locality_name'], inplace=True)"
   ]
  },
  {
   "cell_type": "markdown",
   "metadata": {},
   "source": [
    "* **airports_nearest, cityCenters_nearest**\n",
    "\n",
    "Так как эти данные заполнялись картографически, скорее всего, в объявлениях не было указано местоположение.\n",
    "Проанализируем пропуски в данных столбцах по населенным пунктам."
   ]
  },
  {
   "cell_type": "code",
   "execution_count": 13,
   "metadata": {},
   "outputs": [
    {
     "name": "stdout",
     "output_type": "stream",
     "text": [
      "Санкт-Петербург      0.664163\n",
      "посёлок Мурино       0.022067\n",
      "посёлок Шушары       0.018629\n",
      "Всеволожск           0.016889\n",
      "Пушкин               0.015659\n",
      "Колпино              0.014343\n",
      "посёлок Парголово    0.013877\n",
      "Гатчина              0.013028\n",
      "деревня Кудрово      0.012688\n",
      "Выборг               0.010057\n",
      "Name: locality_name, dtype: float64\n",
      "посёлок Мурино             0.094135\n",
      "Всеволожск                 0.072049\n",
      "Гатчина                    0.055576\n",
      "деревня Кудрово            0.054127\n",
      "Выборг                     0.042904\n",
      "Кудрово                    0.030956\n",
      "деревня Новое Девяткино    0.025887\n",
      "Сертолово                  0.025706\n",
      "Кириши                     0.022629\n",
      "Сланцы                     0.020275\n",
      "Name: locality_name, dtype: float64\n",
      "Процент пропусков в столбце airports_nearest: 23.4%\n",
      "посёлок Мурино             0.094528\n",
      "Всеволожск                 0.072350\n",
      "Гатчина                    0.055808\n",
      "деревня Кудрово            0.054354\n",
      "Выборг                     0.043083\n",
      "Кудрово                    0.031085\n",
      "деревня Новое Девяткино    0.025995\n",
      "Сертолово                  0.025813\n",
      "Кириши                     0.022723\n",
      "Сланцы                     0.020360\n",
      "Name: locality_name, dtype: float64\n",
      "Процент пропусков в столбце cityCenters_nearest: 23.3%\n"
     ]
    }
   ],
   "source": [
    "print(data['locality_name'].value_counts(normalize=True).head(10))\n",
    "\n",
    "print(data[data['airports_nearest'].isna()]['locality_name'].value_counts(normalize=True).head(10))\n",
    "print('Процент пропусков в столбце airports_nearest: {:.1%}'.format(data['airports_nearest'].isna().sum()/len(data)))\n",
    "\n",
    "print(data[data['cityCenters_nearest'].isna()]['locality_name'].value_counts(normalize=True).head(10))\n",
    "print('Процент пропусков в столбце cityCenters_nearest: {:.1%}'.format(data['cityCenters_nearest'].isna().sum()/len(data))) \n"
   ]
  },
  {
   "cell_type": "markdown",
   "metadata": {},
   "source": [
    "Итак, почти все пропущенные значения в данных столбцах в Ленинградской области, не в самом Санкт-Петербурге.\n",
    "Так как нам нужны будут для анализа только данные о расстоянии до центра города в городе Санкт-Петербург, рассмотрим тщательнее пропуски в cityCenters_nearest непосредственно в этом городе.\n",
    "Создадим таблицу, в котором хранится срез данных по квартирам в Санкт-Петербурге с пропущенными значениями в cityCenters_nearest."
   ]
  },
  {
   "cell_type": "code",
   "execution_count": 14,
   "metadata": {},
   "outputs": [
    {
     "name": "stdout",
     "output_type": "stream",
     "text": [
      "Процент пропусков в столбце cityCenters_nearest: 0.3%\n"
     ]
    }
   ],
   "source": [
    "data_spb_without_cityCenters_nearest = data[(data['cityCenters_nearest'].isna())&(data['locality_name']=='Санкт-Петербург')]\n",
    "\n",
    "print('Процент пропусков в столбце cityCenters_nearest: {:.1%}'.format(len(data_spb_without_cityCenters_nearest)/len(data))) "
   ]
  },
  {
   "cell_type": "markdown",
   "metadata": {},
   "source": [
    "Так как процент пропущенных значений в столбце cityCenters_nearest в Санкт-Петербурге ниже 1%, можно удалить данные значения.\n",
    "Сохраним индексы данных строк из таблицы data_spb_without_cityCenters_nearest в отдельной переменной и удалим строки с данными индексами из таблицы."
   ]
  },
  {
   "cell_type": "code",
   "execution_count": 15,
   "metadata": {},
   "outputs": [
    {
     "name": "stdout",
     "output_type": "stream",
     "text": [
      "Int64Index([   81,   593,   604,   742,   795,  1336,  1872,  1895,  2364,\n",
      "             2707,  2882,  3200,  3501,  4323,  4781,  5216,  5444,  5908,\n",
      "             7272,  7592,  9435, 10220, 10684, 10879, 11132, 11193, 11796,\n",
      "            11801, 11872, 12446, 13470, 14682, 14944, 14969, 15161, 15919,\n",
      "            16218, 16247, 16580, 17757, 17791, 18292, 18315, 18651, 19084,\n",
      "            19130, 19148, 19233, 19267, 19861, 19870, 19998, 20104, 20977,\n",
      "            21399, 21668, 21881, 21955, 22554, 22628],\n",
      "           dtype='int64')\n"
     ]
    }
   ],
   "source": [
    "row_index_for_drop = data_spb_without_cityCenters_nearest.index\n",
    "print(row_index_for_drop)\n",
    "\n",
    "# Оставляем в таблице только те строки, индекс которых не входит в диапазон значений переменной row_index_for_drop\n",
    "data = data.query(\"index not in @row_index_for_drop\")\n"
   ]
  },
  {
   "cell_type": "markdown",
   "metadata": {},
   "source": [
    "* **parks_around3000 и ponds_around3000**\n",
    "\n",
    "Скорее всего, при отсутствии данных в столбце parks_nearest и ponds_nearest, будут пропущены данные в колонках parks_around3000 и ponds_around3000, соответственно.\n",
    "Так как эти данные нам также не понадобятся, оставим пропущенные значения.\n",
    "Было бы лучше заменить тип данных на int, так как в столбцах содержатся данные о количестве парках и водоемах. Будем иметь это ввиду."
   ]
  },
  {
   "cell_type": "markdown",
   "metadata": {},
   "source": [
    "* **days_exposition**\n",
    "\n",
    "Проанализируем пропуски в данном столбце и возможные варианты замены пропущенных значений."
   ]
  },
  {
   "cell_type": "code",
   "execution_count": 16,
   "metadata": {},
   "outputs": [
    {
     "data": {
      "text/html": [
       "<div>\n",
       "<style scoped>\n",
       "    .dataframe tbody tr th:only-of-type {\n",
       "        vertical-align: middle;\n",
       "    }\n",
       "\n",
       "    .dataframe tbody tr th {\n",
       "        vertical-align: top;\n",
       "    }\n",
       "\n",
       "    .dataframe thead th {\n",
       "        text-align: right;\n",
       "    }\n",
       "</style>\n",
       "<table border=\"1\" class=\"dataframe\">\n",
       "  <thead>\n",
       "    <tr style=\"text-align: right;\">\n",
       "      <th></th>\n",
       "      <th>count</th>\n",
       "      <th>mean</th>\n",
       "      <th>std</th>\n",
       "      <th>min</th>\n",
       "      <th>25%</th>\n",
       "      <th>50%</th>\n",
       "      <th>75%</th>\n",
       "      <th>max</th>\n",
       "    </tr>\n",
       "    <tr>\n",
       "      <th>locality_name</th>\n",
       "      <th></th>\n",
       "      <th></th>\n",
       "      <th></th>\n",
       "      <th></th>\n",
       "      <th></th>\n",
       "      <th></th>\n",
       "      <th></th>\n",
       "      <th></th>\n",
       "    </tr>\n",
       "  </thead>\n",
       "  <tbody>\n",
       "    <tr>\n",
       "      <td>Санкт-Петербург</td>\n",
       "      <td>13552.0</td>\n",
       "      <td>182.773022</td>\n",
       "      <td>224.685268</td>\n",
       "      <td>1.0</td>\n",
       "      <td>42.00</td>\n",
       "      <td>95.0</td>\n",
       "      <td>231.00</td>\n",
       "      <td>1572.0</td>\n",
       "    </tr>\n",
       "    <tr>\n",
       "      <td>посёлок Мурино</td>\n",
       "      <td>515.0</td>\n",
       "      <td>148.058252</td>\n",
       "      <td>194.929141</td>\n",
       "      <td>3.0</td>\n",
       "      <td>35.00</td>\n",
       "      <td>73.0</td>\n",
       "      <td>177.00</td>\n",
       "      <td>1187.0</td>\n",
       "    </tr>\n",
       "    <tr>\n",
       "      <td>посёлок Шушары</td>\n",
       "      <td>407.0</td>\n",
       "      <td>156.429975</td>\n",
       "      <td>182.084115</td>\n",
       "      <td>3.0</td>\n",
       "      <td>45.00</td>\n",
       "      <td>92.0</td>\n",
       "      <td>194.50</td>\n",
       "      <td>1130.0</td>\n",
       "    </tr>\n",
       "    <tr>\n",
       "      <td>Всеволожск</td>\n",
       "      <td>339.0</td>\n",
       "      <td>197.085546</td>\n",
       "      <td>216.620783</td>\n",
       "      <td>4.0</td>\n",
       "      <td>45.00</td>\n",
       "      <td>123.0</td>\n",
       "      <td>270.50</td>\n",
       "      <td>1413.0</td>\n",
       "    </tr>\n",
       "    <tr>\n",
       "      <td>Колпино</td>\n",
       "      <td>308.0</td>\n",
       "      <td>143.600649</td>\n",
       "      <td>177.849751</td>\n",
       "      <td>3.0</td>\n",
       "      <td>40.00</td>\n",
       "      <td>74.0</td>\n",
       "      <td>185.50</td>\n",
       "      <td>1131.0</td>\n",
       "    </tr>\n",
       "    <tr>\n",
       "      <td>Пушкин</td>\n",
       "      <td>307.0</td>\n",
       "      <td>209.579805</td>\n",
       "      <td>245.973143</td>\n",
       "      <td>3.0</td>\n",
       "      <td>57.50</td>\n",
       "      <td>130.0</td>\n",
       "      <td>260.00</td>\n",
       "      <td>1512.0</td>\n",
       "    </tr>\n",
       "    <tr>\n",
       "      <td>посёлок Парголово</td>\n",
       "      <td>302.0</td>\n",
       "      <td>155.503311</td>\n",
       "      <td>188.446662</td>\n",
       "      <td>3.0</td>\n",
       "      <td>44.25</td>\n",
       "      <td>79.0</td>\n",
       "      <td>211.50</td>\n",
       "      <td>1452.0</td>\n",
       "    </tr>\n",
       "    <tr>\n",
       "      <td>деревня Кудрово</td>\n",
       "      <td>299.0</td>\n",
       "      <td>180.872910</td>\n",
       "      <td>232.448256</td>\n",
       "      <td>3.0</td>\n",
       "      <td>44.00</td>\n",
       "      <td>80.0</td>\n",
       "      <td>228.50</td>\n",
       "      <td>1149.0</td>\n",
       "    </tr>\n",
       "    <tr>\n",
       "      <td>Гатчина</td>\n",
       "      <td>268.0</td>\n",
       "      <td>189.619403</td>\n",
       "      <td>218.939042</td>\n",
       "      <td>3.0</td>\n",
       "      <td>45.00</td>\n",
       "      <td>99.5</td>\n",
       "      <td>253.00</td>\n",
       "      <td>988.0</td>\n",
       "    </tr>\n",
       "    <tr>\n",
       "      <td>Выборг</td>\n",
       "      <td>208.0</td>\n",
       "      <td>177.375000</td>\n",
       "      <td>203.773991</td>\n",
       "      <td>3.0</td>\n",
       "      <td>45.00</td>\n",
       "      <td>99.5</td>\n",
       "      <td>212.75</td>\n",
       "      <td>1005.0</td>\n",
       "    </tr>\n",
       "    <tr>\n",
       "      <td>Петергоф</td>\n",
       "      <td>176.0</td>\n",
       "      <td>204.664773</td>\n",
       "      <td>256.837505</td>\n",
       "      <td>7.0</td>\n",
       "      <td>45.00</td>\n",
       "      <td>99.0</td>\n",
       "      <td>247.25</td>\n",
       "      <td>1273.0</td>\n",
       "    </tr>\n",
       "    <tr>\n",
       "      <td>Сестрорецк</td>\n",
       "      <td>163.0</td>\n",
       "      <td>209.312883</td>\n",
       "      <td>231.142613</td>\n",
       "      <td>5.0</td>\n",
       "      <td>52.00</td>\n",
       "      <td>113.0</td>\n",
       "      <td>322.50</td>\n",
       "      <td>1489.0</td>\n",
       "    </tr>\n",
       "    <tr>\n",
       "      <td>Красное Село</td>\n",
       "      <td>156.0</td>\n",
       "      <td>194.346154</td>\n",
       "      <td>199.523259</td>\n",
       "      <td>3.0</td>\n",
       "      <td>47.00</td>\n",
       "      <td>123.5</td>\n",
       "      <td>275.00</td>\n",
       "      <td>1265.0</td>\n",
       "    </tr>\n",
       "    <tr>\n",
       "      <td>Кудрово</td>\n",
       "      <td>140.0</td>\n",
       "      <td>114.878571</td>\n",
       "      <td>155.113533</td>\n",
       "      <td>3.0</td>\n",
       "      <td>31.75</td>\n",
       "      <td>61.0</td>\n",
       "      <td>134.50</td>\n",
       "      <td>1313.0</td>\n",
       "    </tr>\n",
       "    <tr>\n",
       "      <td>деревня Новое Девяткино</td>\n",
       "      <td>126.0</td>\n",
       "      <td>186.706349</td>\n",
       "      <td>235.721092</td>\n",
       "      <td>3.0</td>\n",
       "      <td>42.75</td>\n",
       "      <td>107.0</td>\n",
       "      <td>229.00</td>\n",
       "      <td>1580.0</td>\n",
       "    </tr>\n",
       "  </tbody>\n",
       "</table>\n",
       "</div>"
      ],
      "text/plain": [
       "                           count        mean         std  min    25%    50%  \\\n",
       "locality_name                                                                 \n",
       "Санкт-Петербург          13552.0  182.773022  224.685268  1.0  42.00   95.0   \n",
       "посёлок Мурино             515.0  148.058252  194.929141  3.0  35.00   73.0   \n",
       "посёлок Шушары             407.0  156.429975  182.084115  3.0  45.00   92.0   \n",
       "Всеволожск                 339.0  197.085546  216.620783  4.0  45.00  123.0   \n",
       "Колпино                    308.0  143.600649  177.849751  3.0  40.00   74.0   \n",
       "Пушкин                     307.0  209.579805  245.973143  3.0  57.50  130.0   \n",
       "посёлок Парголово          302.0  155.503311  188.446662  3.0  44.25   79.0   \n",
       "деревня Кудрово            299.0  180.872910  232.448256  3.0  44.00   80.0   \n",
       "Гатчина                    268.0  189.619403  218.939042  3.0  45.00   99.5   \n",
       "Выборг                     208.0  177.375000  203.773991  3.0  45.00   99.5   \n",
       "Петергоф                   176.0  204.664773  256.837505  7.0  45.00   99.0   \n",
       "Сестрорецк                 163.0  209.312883  231.142613  5.0  52.00  113.0   \n",
       "Красное Село               156.0  194.346154  199.523259  3.0  47.00  123.5   \n",
       "Кудрово                    140.0  114.878571  155.113533  3.0  31.75   61.0   \n",
       "деревня Новое Девяткино    126.0  186.706349  235.721092  3.0  42.75  107.0   \n",
       "\n",
       "                            75%     max  \n",
       "locality_name                            \n",
       "Санкт-Петербург          231.00  1572.0  \n",
       "посёлок Мурино           177.00  1187.0  \n",
       "посёлок Шушары           194.50  1130.0  \n",
       "Всеволожск               270.50  1413.0  \n",
       "Колпино                  185.50  1131.0  \n",
       "Пушкин                   260.00  1512.0  \n",
       "посёлок Парголово        211.50  1452.0  \n",
       "деревня Кудрово          228.50  1149.0  \n",
       "Гатчина                  253.00   988.0  \n",
       "Выборг                   212.75  1005.0  \n",
       "Петергоф                 247.25  1273.0  \n",
       "Сестрорецк               322.50  1489.0  \n",
       "Красное Село             275.00  1265.0  \n",
       "Кудрово                  134.50  1313.0  \n",
       "деревня Новое Девяткино  229.00  1580.0  "
      ]
     },
     "metadata": {},
     "output_type": "display_data"
    },
    {
     "name": "stdout",
     "output_type": "stream",
     "text": [
      "11643   2018-03-27\n",
      "15540   2019-03-27\n",
      "13770   2019-02-26\n",
      "14539   2018-10-10\n",
      "7086    2019-03-12\n",
      "13737   2015-08-23\n",
      "20189   2019-03-05\n",
      "18321   2019-04-01\n",
      "17414   2019-03-19\n",
      "1257    2015-09-24\n",
      "Name: first_day_exposition, dtype: datetime64[ns]\n",
      "count    20369.000000\n",
      "mean       180.769601\n",
      "std        219.780816\n",
      "min          1.000000\n",
      "25%         45.000000\n",
      "50%         95.000000\n",
      "75%        231.000000\n",
      "max       1580.000000\n",
      "Name: days_exposition, dtype: float64\n"
     ]
    }
   ],
   "source": [
    "# Проанализируем статистические описания по days_exposition в зависимости от населенного пункта, то есть по категориям\n",
    "display(data.groupby('locality_name')['days_exposition'].describe().sort_values('count', ascending=False).head(15))\n",
    "\n",
    "# Проанализируем по первому дню подачи объявления этот же столбец.\n",
    "print(data[data['days_exposition'].isna()]['first_day_exposition'].sample(10))\n",
    "\n",
    "print(data['days_exposition'].describe())"
   ]
  },
  {
   "cell_type": "markdown",
   "metadata": {},
   "source": [
    "При анализе пропущенных значений по населенному пункту стандартное отклонение больше среднего, необходимо найти другие признаки, по которым распределение будет нормальным. \n",
    "Года публикации объявлений с пропущенными данными в days_exposition варьируются, есть даже квартиры, которые подавались в 2016. Тем не менее, лучше ввести год подачи объявления для последующего анализа и заполнения пропущенныз значений."
   ]
  },
  {
   "cell_type": "code",
   "execution_count": 17,
   "metadata": {},
   "outputs": [
    {
     "data": {
      "text/html": [
       "<div>\n",
       "<style scoped>\n",
       "    .dataframe tbody tr th:only-of-type {\n",
       "        vertical-align: middle;\n",
       "    }\n",
       "\n",
       "    .dataframe tbody tr th {\n",
       "        vertical-align: top;\n",
       "    }\n",
       "\n",
       "    .dataframe thead th {\n",
       "        text-align: right;\n",
       "    }\n",
       "</style>\n",
       "<table border=\"1\" class=\"dataframe\">\n",
       "  <thead>\n",
       "    <tr style=\"text-align: right;\">\n",
       "      <th></th>\n",
       "      <th>count</th>\n",
       "      <th>mean</th>\n",
       "      <th>std</th>\n",
       "      <th>min</th>\n",
       "      <th>25%</th>\n",
       "      <th>50%</th>\n",
       "      <th>75%</th>\n",
       "      <th>max</th>\n",
       "    </tr>\n",
       "    <tr>\n",
       "      <th>year</th>\n",
       "      <th></th>\n",
       "      <th></th>\n",
       "      <th></th>\n",
       "      <th></th>\n",
       "      <th></th>\n",
       "      <th></th>\n",
       "      <th></th>\n",
       "      <th></th>\n",
       "    </tr>\n",
       "  </thead>\n",
       "  <tbody>\n",
       "    <tr>\n",
       "      <td>2014</td>\n",
       "      <td>118.0</td>\n",
       "      <td>911.338983</td>\n",
       "      <td>297.352627</td>\n",
       "      <td>554.0</td>\n",
       "      <td>607.25</td>\n",
       "      <td>876.0</td>\n",
       "      <td>1126.5</td>\n",
       "      <td>1580.0</td>\n",
       "    </tr>\n",
       "    <tr>\n",
       "      <td>2015</td>\n",
       "      <td>1096.0</td>\n",
       "      <td>651.603102</td>\n",
       "      <td>319.116967</td>\n",
       "      <td>182.0</td>\n",
       "      <td>392.00</td>\n",
       "      <td>580.5</td>\n",
       "      <td>888.0</td>\n",
       "      <td>1512.0</td>\n",
       "    </tr>\n",
       "    <tr>\n",
       "      <td>2016</td>\n",
       "      <td>2676.0</td>\n",
       "      <td>323.039611</td>\n",
       "      <td>257.554493</td>\n",
       "      <td>3.0</td>\n",
       "      <td>115.00</td>\n",
       "      <td>238.0</td>\n",
       "      <td>481.0</td>\n",
       "      <td>1153.0</td>\n",
       "    </tr>\n",
       "    <tr>\n",
       "      <td>2017</td>\n",
       "      <td>7883.0</td>\n",
       "      <td>159.082963</td>\n",
       "      <td>153.265098</td>\n",
       "      <td>3.0</td>\n",
       "      <td>45.00</td>\n",
       "      <td>103.0</td>\n",
       "      <td>227.0</td>\n",
       "      <td>825.0</td>\n",
       "    </tr>\n",
       "    <tr>\n",
       "      <td>2018</td>\n",
       "      <td>7522.0</td>\n",
       "      <td>94.210981</td>\n",
       "      <td>85.131290</td>\n",
       "      <td>3.0</td>\n",
       "      <td>34.00</td>\n",
       "      <td>63.0</td>\n",
       "      <td>130.0</td>\n",
       "      <td>465.0</td>\n",
       "    </tr>\n",
       "    <tr>\n",
       "      <td>2019</td>\n",
       "      <td>1074.0</td>\n",
       "      <td>30.950652</td>\n",
       "      <td>23.828886</td>\n",
       "      <td>1.0</td>\n",
       "      <td>12.00</td>\n",
       "      <td>23.5</td>\n",
       "      <td>45.0</td>\n",
       "      <td>110.0</td>\n",
       "    </tr>\n",
       "  </tbody>\n",
       "</table>\n",
       "</div>"
      ],
      "text/plain": [
       "       count        mean         std    min     25%    50%     75%     max\n",
       "year                                                                      \n",
       "2014   118.0  911.338983  297.352627  554.0  607.25  876.0  1126.5  1580.0\n",
       "2015  1096.0  651.603102  319.116967  182.0  392.00  580.5   888.0  1512.0\n",
       "2016  2676.0  323.039611  257.554493    3.0  115.00  238.0   481.0  1153.0\n",
       "2017  7883.0  159.082963  153.265098    3.0   45.00  103.0   227.0   825.0\n",
       "2018  7522.0   94.210981   85.131290    3.0   34.00   63.0   130.0   465.0\n",
       "2019  1074.0   30.950652   23.828886    1.0   12.00   23.5    45.0   110.0"
      ]
     },
     "metadata": {},
     "output_type": "display_data"
    }
   ],
   "source": [
    "# Добавляем год публикации объявления в таблицу\n",
    "def year(date):\n",
    "    year = date.year\n",
    "    return year\n",
    "data['year'] = data['first_day_exposition'].apply(year)\n",
    "\n",
    "\n",
    "grouped_data_years = data.groupby('year')['days_exposition'].describe().sort_values('year')\n",
    "display(grouped_data_years)"
   ]
  },
  {
   "cell_type": "markdown",
   "metadata": {},
   "source": [
    "Люди все быстрее закрывают объявления, с каждым годом. Также мы видим, что стандартное отклонение меньше среднего, это говорит о том, что можно заменить средней или медианой по этому признаку.\n",
    "Заменим пропущенные значение в колонке days_exposition по медиане данного столбца по году публикации объявления. И заменим тип данных на целочисленный."
   ]
  },
  {
   "cell_type": "code",
   "execution_count": 18,
   "metadata": {},
   "outputs": [],
   "source": [
    "# Создание списка со всеми годами публикаций объявлений\n",
    "row_years = grouped_data_years.index\n",
    "\n",
    "def fill_nan_days(data):\n",
    "    # Итерация по годам и заполнение пропущенных данных в days_exposition согласно медианы по годам\n",
    "    for x in row_years:\n",
    "        data.loc[data['year'] ==x, 'days_exposition'] = data.loc[\n",
    "    data['year'] ==x, 'days_exposition'].fillna(grouped_data_years.loc[x]['50%'])\n",
    "fill_nan_days(data)\n",
    "\n",
    "data['days_exposition'] = data['days_exposition'].astype('int')"
   ]
  },
  {
   "cell_type": "code",
   "execution_count": 19,
   "metadata": {},
   "outputs": [
    {
     "name": "stdout",
     "output_type": "stream",
     "text": [
      "<class 'pandas.core.frame.DataFrame'>\n",
      "Int64Index: 23505 entries, 0 to 23698\n",
      "Data columns (total 23 columns):\n",
      "total_images            23505 non-null int64\n",
      "last_price              23505 non-null float64\n",
      "total_area              23505 non-null float64\n",
      "first_day_exposition    23505 non-null datetime64[ns]\n",
      "rooms                   23505 non-null int64\n",
      "ceiling_height          23505 non-null float64\n",
      "floors_total            23505 non-null int64\n",
      "living_area             23505 non-null float64\n",
      "floor                   23505 non-null int64\n",
      "is_apartment            23505 non-null bool\n",
      "studio                  23505 non-null bool\n",
      "open_plan               23505 non-null bool\n",
      "kitchen_area            23505 non-null float64\n",
      "balcony                 23505 non-null int64\n",
      "locality_name           23505 non-null object\n",
      "airports_nearest        18041 non-null float64\n",
      "cityCenters_nearest     18064 non-null float64\n",
      "parks_around3000        18065 non-null float64\n",
      "parks_nearest           8030 non-null float64\n",
      "ponds_around3000        18065 non-null float64\n",
      "ponds_nearest           9036 non-null float64\n",
      "days_exposition         23505 non-null int64\n",
      "year                    23505 non-null int64\n",
      "dtypes: bool(3), datetime64[ns](1), float64(11), int64(7), object(1)\n",
      "memory usage: 3.8+ MB\n"
     ]
    }
   ],
   "source": [
    "data.info()"
   ]
  },
  {
   "cell_type": "markdown",
   "metadata": {},
   "source": [
    "***\n",
    "#### Заполнение пропущенных значений ####\n",
    "\n",
    "Пропущенные значения **balcony** заполнены нулями, так как скорее всего, если пользователь не указал данные по количеству балконов в объявлении, это указывает их отсутствие.\n",
    "\n",
    "Пропуски в **floors_total** были удалены, так как процент пропущенных значений менее 1%, не повлияет на анализ данных. Скорее всего, пользователи просто не указали этажность дома.\n",
    "\n",
    "Пропущенные данные в столбце **is_apartment** заполнялись False, как самый возможный вариант, ввиду редкости апартаментов среди всех предлагаемых квартир. Пользователи могли просто не заполнить данную информацию.\n",
    "\n",
    "В колонках **living_area** и **kitchen_area** были заполнены исходя из их зависимости от общей площади квартиры. Ведь обычно в объявлениях указывают общую площадь как самый важный показатель.\n",
    "\n",
    "Пропусков в **locality_name** оказалось немного - всего 49 строчек. Данные пропуски не повлияют на анализ, нет признака, по которому можно было заменить данные значения, поэтому удаляем строки.\n",
    "\n",
    "Пропуски в **airports_nearest**, **cityCenters_nearest** у квартир в Ленинградской области мы оставляем как есть, данные нам не понадобятся для дальнейшего анализа. Скорее всего, пользователи не указали точное расположение квартиры. И удаляем строчки с пропусками в cityCenters_nearest в городе Санкт-Петербурге для последующего анализа данного столбца.\n",
    "\n",
    "Пропущенные значения **parks_around3000** и в **ponds_around3000** . Так как данные значения заполнялись картографически, то пропуски **parks_nearest** и **ponds_nearest** - это маркер того, что в радиусе 3 км нет парков и водоемов, соответственно, и расстояние до них определить невозможно. Более того, эти данные нам не понадобятся для последующего анализа, поэтому оставляем как есть.\n",
    "\n",
    "Пропуски в **days_exposition** заполнены по медиане по году, в котором было выпущено объявление. Так как распределение по данным категориям было нормальным.\n",
    "\n",
    "#### Изменение типов данных ####\n",
    "\n",
    "В колонке **first_day_exposition** данные были приведены в формат *datetime* для последующей работы с датой.\n",
    "\n",
    "В столбцах **balcony**, **floors_total**, **days_exposition**, данные приведены к *int*, как целочисленные значения. в последующем это облегчит работу с данными и, возможно, несколько уменьшит объем занимаемой памяти.\n",
    "\n",
    "#### Добавление столбцов ####\n",
    "\n",
    "Добавление столбцов годои публикации объявления (**year**).\n",
    "***"
   ]
  },
  {
   "cell_type": "markdown",
   "metadata": {},
   "source": [
    "## <a id=\"step3\">Шаг 3. Подсчет и добавление в таблицу данных</a>"
   ]
  },
  {
   "cell_type": "markdown",
   "metadata": {},
   "source": [
    "##### Добавление дня недели и месяца публикации объявления."
   ]
  },
  {
   "cell_type": "code",
   "execution_count": 20,
   "metadata": {},
   "outputs": [],
   "source": [
    "def weekday(date):\n",
    "    weekday = date.dayofweek\n",
    "    return weekday\n",
    "data['weekday'] = data['first_day_exposition'].apply(weekday)\n",
    "\n",
    "def month(date):\n",
    "    month = date.month\n",
    "    return month\n",
    "data['month'] = data['first_day_exposition'].apply(month)     \n"
   ]
  },
  {
   "cell_type": "markdown",
   "metadata": {},
   "source": [
    "##### Добавление цены квадратного метра."
   ]
  },
  {
   "cell_type": "code",
   "execution_count": 21,
   "metadata": {},
   "outputs": [],
   "source": [
    "data['price_per_m2'] = data['last_price'] / data['total_area']"
   ]
  },
  {
   "cell_type": "markdown",
   "metadata": {},
   "source": [
    "#####  Добавление этажа квартиры: первый, последний, другой."
   ]
  },
  {
   "cell_type": "code",
   "execution_count": 22,
   "metadata": {},
   "outputs": [],
   "source": [
    "def floor_category(row):\n",
    "    # Функция возвращает значение 'первый', если указанный этаж равен последнему и 1, \n",
    "    # 'последний' - если этаж равен последнему и не 1, и 'другой'\n",
    "    floors_total = row['floors_total']\n",
    "    floor = row['floor']\n",
    "    if floors_total == floor:\n",
    "        if floor == 1:\n",
    "            return 'первый'\n",
    "        return 'последний'\n",
    "    return 'другой'\n",
    "data['floor_category'] = data.apply(floor_category, axis = 1)"
   ]
  },
  {
   "cell_type": "markdown",
   "metadata": {},
   "source": [
    "#####  Добавление соотношения жилой и общей площади, а также отношения площади кухни к общей."
   ]
  },
  {
   "cell_type": "code",
   "execution_count": 23,
   "metadata": {},
   "outputs": [],
   "source": [
    "data['ratio_living_area'] = data['living_area'] / data['total_area']\n",
    "data['ratio_kitchen_area'] = data['kitchen_area'] / data['total_area']"
   ]
  },
  {
   "cell_type": "code",
   "execution_count": 24,
   "metadata": {},
   "outputs": [
    {
     "name": "stdout",
     "output_type": "stream",
     "text": [
      "<class 'pandas.core.frame.DataFrame'>\n",
      "Int64Index: 23505 entries, 0 to 23698\n",
      "Data columns (total 29 columns):\n",
      "total_images            23505 non-null int64\n",
      "last_price              23505 non-null float64\n",
      "total_area              23505 non-null float64\n",
      "first_day_exposition    23505 non-null datetime64[ns]\n",
      "rooms                   23505 non-null int64\n",
      "ceiling_height          23505 non-null float64\n",
      "floors_total            23505 non-null int64\n",
      "living_area             23505 non-null float64\n",
      "floor                   23505 non-null int64\n",
      "is_apartment            23505 non-null bool\n",
      "studio                  23505 non-null bool\n",
      "open_plan               23505 non-null bool\n",
      "kitchen_area            23505 non-null float64\n",
      "balcony                 23505 non-null int64\n",
      "locality_name           23505 non-null object\n",
      "airports_nearest        18041 non-null float64\n",
      "cityCenters_nearest     18064 non-null float64\n",
      "parks_around3000        18065 non-null float64\n",
      "parks_nearest           8030 non-null float64\n",
      "ponds_around3000        18065 non-null float64\n",
      "ponds_nearest           9036 non-null float64\n",
      "days_exposition         23505 non-null int64\n",
      "year                    23505 non-null int64\n",
      "weekday                 23505 non-null int64\n",
      "month                   23505 non-null int64\n",
      "price_per_m2            23505 non-null float64\n",
      "floor_category          23505 non-null object\n",
      "ratio_living_area       23505 non-null float64\n",
      "ratio_kitchen_area      23505 non-null float64\n",
      "dtypes: bool(3), datetime64[ns](1), float64(14), int64(9), object(2)\n",
      "memory usage: 4.9+ MB\n"
     ]
    }
   ],
   "source": [
    "data.info()"
   ]
  },
  {
   "cell_type": "markdown",
   "metadata": {},
   "source": [
    "#### Добавление данных в таблицу ####\n",
    "\n",
    "Были добавлены следующие столбцы:\n",
    "\n",
    "**year, weekday, month** - год, день недели и месяц публикации объявления;\n",
    "\n",
    "**price_per_m2цену** - цена квадратного метра;\n",
    "\n",
    "**floor_category** - этаж квартиры — первый, последний, другой;\n",
    "\n",
    "**ratio_living_area**, **ratio_kitchen_area** - соотношение жилой и общей площади, а также отношение площади кухни к общей."
   ]
  },
  {
   "cell_type": "markdown",
   "metadata": {},
   "source": [
    "## <a id=\"step4\">Шаг 4. Исследовательский анализ данных </a>\n"
   ]
  },
  {
   "cell_type": "markdown",
   "metadata": {},
   "source": [
    "##### 1) Изучите следующие параметры: площадь, цена, число комнат, высота потолков. Постройте гистограммы для каждого параметра. #####\n",
    "\n",
    "Построим гистограммы по цене, площади, количеству комнат и высоте потолков. Исследуем дополнительно статистические описания стобцов методом describe()."
   ]
  },
  {
   "cell_type": "code",
   "execution_count": 25,
   "metadata": {},
   "outputs": [
    {
     "name": "stdout",
     "output_type": "stream",
     "text": [
      "         last_price    total_area         rooms  ceiling_height\n",
      "count  2.350500e+04  23505.000000  23505.000000    23505.000000\n",
      "mean   6.516232e+06     60.248165      2.069985        2.724284\n",
      "std    1.086737e+07     35.487966      1.077413        0.992183\n",
      "min    1.219000e+04     12.000000      0.000000        1.000000\n",
      "25%    3.400000e+06     40.000000      1.000000        2.600000\n",
      "50%    4.620000e+06     52.000000      2.000000        2.650000\n",
      "75%    6.750000e+06     69.600000      3.000000        2.700000\n",
      "max    7.630000e+08    900.000000     19.000000      100.000000\n",
      "count        23505.000000\n",
      "mean       6516231.964816\n",
      "std       10867371.409788\n",
      "min          12190.000000\n",
      "25%        3400000.000000\n",
      "50%        4620000.000000\n",
      "75%        6750000.000000\n",
      "max      763000000.000000\n",
      "Name: last_price, dtype: object\n"
     ]
    }
   ],
   "source": [
    "print(data.loc[:, 'last_price':'ceiling_height'].describe())\n",
    "\n",
    "# Выведем на экран отдельным столбцом статистическое описание столбца last_price, с указанием формата float\n",
    "print(data['last_price'].describe().apply(lambda x: format(x, 'f')))\n"
   ]
  },
  {
   "cell_type": "code",
   "execution_count": 26,
   "metadata": {},
   "outputs": [
    {
     "data": {
      "image/png": "[encoded data removed]",
      "text/plain": [
       "<Figure size 432x288 with 1 Axes>"
      ]
     },
     "metadata": {},
     "output_type": "display_data"
    },
    {
     "data": {
      "image/png": "[encoded data removed]",
      "text/plain": [
       "<Figure size 432x288 with 1 Axes>"
      ]
     },
     "metadata": {},
     "output_type": "display_data"
    },
    {
     "data": {
      "image/png": "[encoded data removed]",
      "text/plain": [
       "<Figure size 432x288 with 1 Axes>"
      ]
     },
     "metadata": {},
     "output_type": "display_data"
    },
    {
     "data": {
      "image/png": "[encoded data removed]",
      "text/plain": [
       "<Figure size 432x288 with 1 Axes>"
      ]
     },
     "metadata": {},
     "output_type": "display_data"
    }
   ],
   "source": [
    "data_hist = data[['last_price', 'total_area', 'rooms', 'ceiling_height']]\n",
    "plt.style.use('ggplot')\n",
    "\n",
    "\n",
    "# Создание словаря для подписей осей\n",
    "dict_hist = {'last_price': 'цена квартиры, руб', 'total_area':\n",
    "        'общая площадь, м2', 'rooms': 'число комнат, шт', 'ceiling_height':\n",
    "        'высота потолков, м', 'days_exposition': 'время продажи, дни'}\n",
    "\n",
    "for x in data_hist:\n",
    "    data.hist(column=x, bins = 50, range=(data_hist[x].min(), data_hist[x].max()))\n",
    "    plt.title(x)\n",
    "    plt.xlabel(dict_hist[x])\n",
    "    plt.ylabel(\"количество квартир, шт\")\n",
    "    plt.show()\n",
    "    \n"
   ]
  },
  {
   "cell_type": "markdown",
   "metadata": {},
   "source": [
    "Конечно, графики получились нечитабельными. Мало того, что выбросы влияют, так еще масштаб маленький.\n",
    "\n",
    "Построим гистограммы по отдельности. Зато видно, в каких областях сосредоточены все значения, это поможет в построении отдельных гистограмм.\n",
    "   "
   ]
  },
  {
   "cell_type": "markdown",
   "metadata": {},
   "source": [
    "#### * Площадь квартиры"
   ]
  },
  {
   "cell_type": "code",
   "execution_count": 27,
   "metadata": {},
   "outputs": [
    {
     "name": "stdout",
     "output_type": "stream",
     "text": [
      "count    23505.000000\n",
      "mean        60.248165\n",
      "std         35.487966\n",
      "min         12.000000\n",
      "25%         40.000000\n",
      "50%         52.000000\n",
      "75%         69.600000\n",
      "max        900.000000\n",
      "Name: total_area, dtype: float64\n"
     ]
    },
    {
     "data": {
      "image/png": "[encoded data removed]",
      "text/plain": [
       "<Figure size 432x288 with 1 Axes>"
      ]
     },
     "metadata": {},
     "output_type": "display_data"
    }
   ],
   "source": [
    "print(data['total_area'].describe())\n",
    "\n",
    "plt.hist(data['total_area'], bins = 50, range = (0, 300))\n",
    "plt.title('Общая площадь квартиры')\n",
    "plt.xlabel(dict_hist['total_area'])\n",
    "plt.ylabel(\"количество квартир, шт\")\n",
    "plt.show()"
   ]
  },
  {
   "cell_type": "markdown",
   "metadata": {},
   "source": [
    "Тут уже все понятно - чаще всего продаются квартиры с площадью примерно 40-50 кв.м. Тем не менее, есть небольшое число квартир с площадью 100-200 кв.м. и 12-27 кв.м. Скорее, это малосемейки."
   ]
  },
  {
   "cell_type": "markdown",
   "metadata": {},
   "source": [
    "#### * Цена квартиры"
   ]
  },
  {
   "cell_type": "code",
   "execution_count": 28,
   "metadata": {},
   "outputs": [
    {
     "name": "stdout",
     "output_type": "stream",
     "text": [
      "count        23505.000000\n",
      "mean       6516231.964816\n",
      "std       10867371.409788\n",
      "min          12190.000000\n",
      "25%        3400000.000000\n",
      "50%        4620000.000000\n",
      "75%        6750000.000000\n",
      "max      763000000.000000\n",
      "Name: last_price, dtype: object\n"
     ]
    },
    {
     "data": {
      "image/png": "[encoded data removed]",
      "text/plain": [
       "<Figure size 432x288 with 1 Axes>"
      ]
     },
     "metadata": {},
     "output_type": "display_data"
    }
   ],
   "source": [
    "print(data['last_price'].describe().apply(lambda x: format(x, 'f')))\n",
    "\n",
    "plt.hist(data['last_price'], bins = 50, range=(0, 40000000))\n",
    "plt.title('Цена квартиры')\n",
    "plt.xlabel(dict_hist['last_price'])\n",
    "plt.ylabel(\"количество квартир, шт\")\n",
    "plt.show()\n",
    "\n"
   ]
  },
  {
   "cell_type": "markdown",
   "metadata": {},
   "source": [
    "Цена большинства квартир в промежутке от 3 до 6 млн.руб\n",
    "В статистическом описании видно, как сильно отличаются средняя и медиана. Квартира в 763 000 000 очень сильно повлияла. Скорее всего, это и есть особняк с 19 комнатами и потолками в 100 м.\n",
    "Очень редко квартиры стоят больше 20 млн. руб. И почти никогда больше 40 млн. руб. "
   ]
  },
  {
   "cell_type": "markdown",
   "metadata": {},
   "source": [
    "#### * Число комнат в квартире"
   ]
  },
  {
   "cell_type": "code",
   "execution_count": 29,
   "metadata": {
    "scrolled": false
   },
   "outputs": [
    {
     "name": "stdout",
     "output_type": "stream",
     "text": [
      "count    23505.000000\n",
      "mean         2.069985\n",
      "std          1.077413\n",
      "min          0.000000\n",
      "25%          1.000000\n",
      "50%          2.000000\n",
      "75%          3.000000\n",
      "max         19.000000\n",
      "Name: rooms, dtype: float64\n"
     ]
    },
    {
     "data": {
      "image/png": "[encoded data removed]",
      "text/plain": [
       "<Figure size 432x288 with 1 Axes>"
      ]
     },
     "metadata": {},
     "output_type": "display_data"
    }
   ],
   "source": [
    "print(data['rooms'].describe())\n",
    "\n",
    "plt.hist(data['rooms'], bins = 50, range =(0,10))\n",
    "plt.title('Число комнат в квартире')\n",
    "plt.xlabel(dict_hist['rooms'])\n",
    "plt.ylabel(\"количество квартир, шт\")\n",
    "plt.show()\n"
   ]
  },
  {
   "cell_type": "markdown",
   "metadata": {},
   "source": [
    "Большая часть квартир имеют от 1 до 3 комнат. 19 комнат - скорее, выброс. 0 комнат - продажи части комнаты или квартиры-студии, свободной планировки.\n",
    "Очевидно, что 1-комнатные квартиры лидируют с небольшим отрывом от 2-комнатных. Чем больше комнат, тем меньше частота.\n",
    "Больше 8 комнат - квартир почти нет. Есть также квартиры с 0 комнатами, наверное, это продажи половины комнаты"
   ]
  },
  {
   "cell_type": "markdown",
   "metadata": {},
   "source": [
    "#### * Высота потолков квартиры"
   ]
  },
  {
   "cell_type": "code",
   "execution_count": 30,
   "metadata": {},
   "outputs": [
    {
     "name": "stdout",
     "output_type": "stream",
     "text": [
      "count    23505.000000\n",
      "mean         2.724284\n",
      "std          0.992183\n",
      "min          1.000000\n",
      "25%          2.600000\n",
      "50%          2.650000\n",
      "75%          2.700000\n",
      "max        100.000000\n",
      "Name: ceiling_height, dtype: float64\n"
     ]
    },
    {
     "data": {
      "image/png": "[encoded data removed]",
      "text/plain": [
       "<Figure size 432x288 with 1 Axes>"
      ]
     },
     "metadata": {},
     "output_type": "display_data"
    }
   ],
   "source": [
    "print(data['ceiling_height'].describe())\n",
    "plt.hist(data['ceiling_height'], color = 'blue', bins = 50, range=(0, 5))\n",
    "plt.title('Высота потолков квартир')\n",
    "plt.xlabel(dict_hist['ceiling_height'])\n",
    "plt.ylabel(\"количество квартир, шт\")\n",
    "plt.show()\n"
   ]
  },
  {
   "cell_type": "markdown",
   "metadata": {},
   "source": [
    "Не смотря на то, что есть где-то квартира с потолком в 100 метров(а может, это ошибка), все же почти все квартиры\n",
    "имеют высоту потолка до 3 метров. Небходимо изучить выбросы.\n",
    "2,5 - 3 м - золотой стандарт высоты для потолков. Ниже - некомфортно жить. Выше - только элитное жилье и особняки. И их мало."
   ]
  },
  {
   "cell_type": "markdown",
   "metadata": {},
   "source": [
    "В данных много выбросов, в том время как основная масса квартир кучкуется в определенном диапазоне. Стоит в дальнейшем изучить выбросы и, возможно, удалить их для проведения дальнейшего анализа."
   ]
  },
  {
   "cell_type": "markdown",
   "metadata": {},
   "source": [
    "##### 2) Изучите время продажи квартиры. Постройте гистограмму. Посчитайте среднее и медиану. Опишите, сколько обычно занимает продажа. Когда можно считать, что продажи прошли очень быстро, а когда необычно долго? #####"
   ]
  },
  {
   "cell_type": "code",
   "execution_count": 31,
   "metadata": {},
   "outputs": [
    {
     "name": "stdout",
     "output_type": "stream",
     "text": [
      "count    23505.00000\n",
      "mean       165.17392\n",
      "std        212.05290\n",
      "min          1.00000\n",
      "25%         35.00000\n",
      "50%         80.00000\n",
      "75%        204.00000\n",
      "max       1580.00000\n",
      "Name: days_exposition, dtype: float64\n"
     ]
    }
   ],
   "source": [
    "print(data['days_exposition'].describe())"
   ]
  },
  {
   "cell_type": "markdown",
   "metadata": {},
   "source": [
    "Стандартное отклонение больше среднего, медиана меньше среднего. Основная масса квартир была продана за 200 дней. Изучим гистограмму по всем данным и в промежутке от 0 до 200 дней."
   ]
  },
  {
   "cell_type": "code",
   "execution_count": 32,
   "metadata": {},
   "outputs": [
    {
     "data": {
      "image/png": "[encoded data removed]",
      "text/plain": [
       "<Figure size 432x288 with 1 Axes>"
      ]
     },
     "metadata": {},
     "output_type": "display_data"
    },
    {
     "data": {
      "image/png": "[encoded data removed]",
      "text/plain": [
       "<Figure size 432x288 with 1 Axes>"
      ]
     },
     "metadata": {},
     "output_type": "display_data"
    }
   ],
   "source": [
    "plt.hist(data['days_exposition'], bins = 50)\n",
    "plt.title('Время продажи квартиры, базис')\n",
    "plt.xlabel(dict_hist['days_exposition'])\n",
    "plt.ylabel(\"количество квартир, шт\")\n",
    "plt.show()\n",
    "\n",
    "plt.hist(data['days_exposition'], bins = 50, range=(0,200))\n",
    "plt.title('Время продажи квартиры, базис')\n",
    "plt.xlabel(dict_hist['days_exposition'])\n",
    "plt.ylabel(\"количество квартир, шт\")\n",
    "plt.show()"
   ]
  },
  {
   "cell_type": "markdown",
   "metadata": {},
   "source": [
    "Среднее арифметическое времени продажи квартир составляет 165 дней. При этом медиана составляет 80 дней, так как есть квартиры,\n",
    "которые продавались очень долго, и они повлияли на среднее. Можно считать, что обычно продажа занимает 80 дней, медиана менее чувствительна к выбросам. Стандартное отклонение больше среднего, что неправильно.\n",
    "\n",
    "Продажа квартиры считается быстрой, если совершается до 35 дней (25% наблюдений). \n",
    "Из диаграммы размаха видно, что продажа считается необычайно долгой, если продажа занимает более 457 дней (а это 1 год и 2 месяца). Тем не менее, из гистограммы видно, что квартиры продаются все меньше и меньше после отметки в 600 дней (а это 1 год и 8 месяцев).\n"
   ]
  },
  {
   "cell_type": "markdown",
   "metadata": {},
   "source": [
    "##### 3) Уберите редкие и выбивающиеся значения. Опишите, какие особенности обнаружили. #####\n",
    "\n",
    "Создаем копию таблицы, чтобы вносить изменения в копию."
   ]
  },
  {
   "cell_type": "code",
   "execution_count": 33,
   "metadata": {},
   "outputs": [],
   "source": [
    "filtered_data = data.copy()"
   ]
  },
  {
   "cell_type": "markdown",
   "metadata": {},
   "source": [
    "##### * Цена квартиры"
   ]
  },
  {
   "cell_type": "code",
   "execution_count": 34,
   "metadata": {},
   "outputs": [
    {
     "name": "stdout",
     "output_type": "stream",
     "text": [
      "count        23505.000000\n",
      "mean       6516231.964816\n",
      "std       10867371.409788\n",
      "min          12190.000000\n",
      "25%        3400000.000000\n",
      "50%        4620000.000000\n",
      "75%        6750000.000000\n",
      "max      763000000.000000\n",
      "Name: last_price, dtype: object\n"
     ]
    },
    {
     "data": {
      "image/png": "[encoded data removed]",
      "text/plain": [
       "<Figure size 432x288 with 1 Axes>"
      ]
     },
     "metadata": {},
     "output_type": "display_data"
    }
   ],
   "source": [
    "print(filtered_data['last_price'].describe().apply(lambda x: format(x, 'f')))\n",
    "\n",
    "filtered_data.boxplot(column='last_price')\n",
    "plt.ylabel(dict_hist['last_price'])\n",
    "plt.show()"
   ]
  },
  {
   "cell_type": "markdown",
   "metadata": {},
   "source": [
    "Нечитабельно, сразу видно, как влияют выброс в 763 млн. Также этот выброс очень сильно влияет на отклонение.\n",
    "Из гистограммы мы могли заметить, что квартиры редко стоят больше 20 млн.руб. \n",
    "Уберем 5% значений."
   ]
  },
  {
   "cell_type": "code",
   "execution_count": 35,
   "metadata": {},
   "outputs": [
    {
     "name": "stdout",
     "output_type": "stream",
     "text": [
      "count       22327.000000\n",
      "mean      5154508.717517\n",
      "std       2712329.297467\n",
      "min         12190.000000\n",
      "25%       3350000.000000\n",
      "50%       4500000.000000\n",
      "75%       6300000.000000\n",
      "max      15098000.000000\n",
      "Name: last_price, dtype: object\n"
     ]
    },
    {
     "data": {
      "image/png": "[encoded data removed]",
      "text/plain": [
       "<Figure size 720x720 with 1 Axes>"
      ]
     },
     "metadata": {},
     "output_type": "display_data"
    }
   ],
   "source": [
    "filtered_data = filtered_data[filtered_data['last_price'] < filtered_data['last_price'].quantile(0.95)]\n",
    "\n",
    "print(filtered_data['last_price'].describe().apply(lambda x: format(x, 'f')))\n",
    "\n",
    "filtered_data.boxplot(column='last_price', figsize = (10,10), grid=True)\n",
    "plt.ylim(100000, 20000000)\n",
    "plt.ylabel(dict_hist['last_price'])\n",
    "plt.show()"
   ]
  },
  {
   "cell_type": "markdown",
   "metadata": {},
   "source": [
    "Дело сделано - стандартное отклонение ниже среднего, среднее и медиана примерно одинаковы, можно анализировать"
   ]
  },
  {
   "cell_type": "markdown",
   "metadata": {},
   "source": [
    "##### * Общая площадь квартиры"
   ]
  },
  {
   "cell_type": "code",
   "execution_count": 36,
   "metadata": {},
   "outputs": [
    {
     "name": "stdout",
     "output_type": "stream",
     "text": [
      "count    22327.000000\n",
      "mean        55.176545\n",
      "std         21.907033\n",
      "min         12.000000\n",
      "25%         39.400000\n",
      "50%         50.100000\n",
      "75%         65.700000\n",
      "max        320.000000\n",
      "Name: total_area, dtype: float64\n"
     ]
    },
    {
     "data": {
      "image/png": "[encoded data removed]",
      "text/plain": [
       "<Figure size 432x288 with 1 Axes>"
      ]
     },
     "metadata": {},
     "output_type": "display_data"
    }
   ],
   "source": [
    "print(filtered_data['total_area'].describe())\n",
    "\n",
    "filtered_data.boxplot(column='total_area')\n",
    "plt.ylabel(dict_hist['total_area'])\n",
    "plt.show()"
   ]
  },
  {
   "cell_type": "markdown",
   "metadata": {},
   "source": [
    "При удалении 5% значений среди цен на квартиры, удалилось значение в total_area - 900 кв.м. а вместе с ним нормализовалось распределение в столбце.\n",
    "Тем не менее, диаграмма размаха наглядно демонстирует нам, что все еще есть редкие значения. Уберем явные выбросы - 1%"
   ]
  },
  {
   "cell_type": "code",
   "execution_count": 37,
   "metadata": {},
   "outputs": [
    {
     "name": "stdout",
     "output_type": "stream",
     "text": [
      "count    22101.000000\n",
      "mean        54.193039\n",
      "std         19.535864\n",
      "min         12.000000\n",
      "25%         39.200000\n",
      "50%         50.000000\n",
      "75%         65.000000\n",
      "max        125.800000\n",
      "Name: total_area, dtype: float64\n"
     ]
    }
   ],
   "source": [
    "filtered_data = filtered_data[filtered_data['total_area'] < filtered_data['total_area'].quantile(0.99)]\n",
    "print(filtered_data['total_area'].describe())"
   ]
  },
  {
   "cell_type": "markdown",
   "metadata": {},
   "source": [
    "На данном этапе, стандартное отклонение ниже среднего, максимум площади квартиры опустился до 114. А среднее и медиана почти равны."
   ]
  },
  {
   "cell_type": "markdown",
   "metadata": {},
   "source": [
    "##### * Высота потолков квартиры"
   ]
  },
  {
   "cell_type": "code",
   "execution_count": 38,
   "metadata": {},
   "outputs": [
    {
     "name": "stdout",
     "output_type": "stream",
     "text": [
      "count    22101.000000\n",
      "mean         2.707379\n",
      "std          1.015782\n",
      "min          1.000000\n",
      "25%          2.600000\n",
      "50%          2.650000\n",
      "75%          2.700000\n",
      "max        100.000000\n",
      "Name: ceiling_height, dtype: float64\n"
     ]
    },
    {
     "data": {
      "image/png": "[encoded data removed]",
      "text/plain": [
       "<Figure size 432x288 with 1 Axes>"
      ]
     },
     "metadata": {},
     "output_type": "display_data"
    },
    {
     "data": {
      "image/png": "[encoded data removed]",
      "text/plain": [
       "<Figure size 720x720 with 1 Axes>"
      ]
     },
     "metadata": {},
     "output_type": "display_data"
    }
   ],
   "source": [
    "print(filtered_data['ceiling_height'].describe())\n",
    "\n",
    "filtered_data.boxplot(column='ceiling_height')\n",
    "plt.ylabel(dict_hist['ceiling_height'])\n",
    "plt.show()\n",
    "\n",
    "# Расмотрим ящик с усами в промежутке от 2 до 3 м. так как это основная масса наблюдений\n",
    "filtered_data.boxplot(column='ceiling_height', figsize = (10,10), grid=True)\n",
    "plt.ylim(2, 3)\n",
    "plt.ylabel(dict_hist['ceiling_height'])\n",
    "plt.show()"
   ]
  },
  {
   "cell_type": "markdown",
   "metadata": {},
   "source": [
    "Квартиры распределены практически равномерно. Это говорит о том, что высота потолков - вещь стандартная. И можно смело удалять значения за пределами диаграммы размаха "
   ]
  },
  {
   "cell_type": "code",
   "execution_count": 39,
   "metadata": {
    "scrolled": true
   },
   "outputs": [
    {
     "name": "stdout",
     "output_type": "stream",
     "text": [
      "count    19905.000000\n",
      "mean         2.629613\n",
      "std          0.081638\n",
      "min          2.460000\n",
      "25%          2.570000\n",
      "50%          2.650000\n",
      "75%          2.650000\n",
      "max          2.850000\n",
      "Name: ceiling_height, dtype: float64\n"
     ]
    }
   ],
   "source": [
    "# Нахождение мехквартильного размаха\n",
    "IQR_ceiling_height = filtered_data['ceiling_height'].quantile(0.75) - filtered_data['ceiling_height'].quantile(0.25)\n",
    "\n",
    "# Нахождение максимального и минимального наблюдаемого максимума\n",
    "low_ceiling = filtered_data['ceiling_height'].quantile(0.25) - IQR_ceiling_height * 1.5\n",
    "high_ceiling = filtered_data['ceiling_height'].quantile(0.75) + IQR_ceiling_height * 1.5 \n",
    "\n",
    "# Удаление значения за пределами наблюдаемых минимума и максимума\n",
    "filtered_data = filtered_data[(filtered_data['ceiling_height'] > low_ceiling) & (filtered_data['ceiling_height'] < high_ceiling)]\n",
    "\n",
    "print(filtered_data['ceiling_height'].describe())\n"
   ]
  },
  {
   "cell_type": "markdown",
   "metadata": {},
   "source": [
    "##### * Число комнат квартиры"
   ]
  },
  {
   "cell_type": "code",
   "execution_count": 40,
   "metadata": {},
   "outputs": [
    {
     "name": "stdout",
     "output_type": "stream",
     "text": [
      "count    19905.000000\n",
      "mean         1.903391\n",
      "std          0.891671\n",
      "min          0.000000\n",
      "25%          1.000000\n",
      "50%          2.000000\n",
      "75%          3.000000\n",
      "max          7.000000\n",
      "Name: rooms, dtype: float64\n"
     ]
    },
    {
     "data": {
      "image/png": "[encoded data removed]",
      "text/plain": [
       "<Figure size 432x288 with 1 Axes>"
      ]
     },
     "metadata": {},
     "output_type": "display_data"
    }
   ],
   "source": [
    "print(filtered_data['rooms'].describe())\n",
    "\n",
    "filtered_data.boxplot(column='rooms')\n",
    "plt.ylabel(dict_hist['rooms'])\n",
    "plt.show()"
   ]
  },
  {
   "cell_type": "markdown",
   "metadata": {},
   "source": [
    "Согласно диаграмме размаха, квартиры с 0 комнатами - нормальны.\n",
    "Скорее всего, это продажи части комнаты, малосемейки или апартаментов. \n",
    "Видно, что 7комнатные квартиры встречаются иногда, при этом стандартное отклонение очень мало и меньше среднего. Можно оставить данные значения."
   ]
  },
  {
   "cell_type": "markdown",
   "metadata": {},
   "source": [
    "##### * Время продажи квартиры"
   ]
  },
  {
   "cell_type": "code",
   "execution_count": 41,
   "metadata": {},
   "outputs": [
    {
     "name": "stdout",
     "output_type": "stream",
     "text": [
      "count    19905.000000\n",
      "mean       155.689525\n",
      "std        200.361120\n",
      "min          1.000000\n",
      "25%         33.000000\n",
      "50%         74.000000\n",
      "75%        191.000000\n",
      "max       1580.000000\n",
      "Name: days_exposition, dtype: float64\n"
     ]
    },
    {
     "data": {
      "image/png": "[encoded data removed]",
      "text/plain": [
       "<Figure size 720x720 with 1 Axes>"
      ]
     },
     "metadata": {},
     "output_type": "display_data"
    }
   ],
   "source": [
    "print(filtered_data['days_exposition'].describe())\n",
    "\n",
    "filtered_data.boxplot(column='days_exposition', figsize = (10,10), grid=True)\n",
    "plt.ylabel(dict_hist['days_exposition'])\n",
    "plt.show()"
   ]
  },
  {
   "cell_type": "markdown",
   "metadata": {},
   "source": [
    "Стандартное отклонение выше средних значений, необходимо удалить выбросы.\n",
    "Можно выбрать диапазон количества дней продажи квартиры до 600 дней, так как после этой отметки количество продаж квартир очень мала. \n",
    "Мы же уберем 5% верхних значений, посмотрим, поможет ли это. "
   ]
  },
  {
   "cell_type": "code",
   "execution_count": 42,
   "metadata": {},
   "outputs": [
    {
     "name": "stdout",
     "output_type": "stream",
     "text": [
      "count    18897.000000\n",
      "mean       120.605652\n",
      "std        125.775394\n",
      "min          1.000000\n",
      "25%         30.000000\n",
      "50%         67.000000\n",
      "75%        164.000000\n",
      "max        579.000000\n",
      "Name: days_exposition, dtype: float64\n"
     ]
    },
    {
     "data": {
      "image/png": "[encoded data removed]",
      "text/plain": [
       "<Figure size 720x720 with 1 Axes>"
      ]
     },
     "metadata": {},
     "output_type": "display_data"
    }
   ],
   "source": [
    "filtered_data = filtered_data[filtered_data['days_exposition'] < filtered_data['days_exposition'].quantile(0.95)] \n",
    "print(filtered_data['days_exposition'].describe())\n",
    "\n",
    "filtered_data.boxplot(column='days_exposition', figsize = (10,10), grid=True)\n",
    "plt.ylabel(dict_hist['days_exposition'])\n",
    "plt.show()\n"
   ]
  },
  {
   "cell_type": "markdown",
   "metadata": {},
   "source": [
    "Медиана смещена вниз, то есть основная масса наблюдений все же меньше, и выбросы отражаются на среднем. Нас устраивает.\n",
    "Обращаем внимание, что необычайно долгая продажа теперь - это продажа, занимающая более  579 дней (более 1,5 года)"
   ]
  },
  {
   "cell_type": "code",
   "execution_count": 43,
   "metadata": {},
   "outputs": [
    {
     "name": "stdout",
     "output_type": "stream",
     "text": [
      "<class 'pandas.core.frame.DataFrame'>\n",
      "Int64Index: 18897 entries, 0 to 23698\n",
      "Data columns (total 29 columns):\n",
      "total_images            18897 non-null int64\n",
      "last_price              18897 non-null float64\n",
      "total_area              18897 non-null float64\n",
      "first_day_exposition    18897 non-null datetime64[ns]\n",
      "rooms                   18897 non-null int64\n",
      "ceiling_height          18897 non-null float64\n",
      "floors_total            18897 non-null int64\n",
      "living_area             18897 non-null float64\n",
      "floor                   18897 non-null int64\n",
      "is_apartment            18897 non-null bool\n",
      "studio                  18897 non-null bool\n",
      "open_plan               18897 non-null bool\n",
      "kitchen_area            18897 non-null float64\n",
      "balcony                 18897 non-null int64\n",
      "locality_name           18897 non-null object\n",
      "airports_nearest        13962 non-null float64\n",
      "cityCenters_nearest     13977 non-null float64\n",
      "parks_around3000        13977 non-null float64\n",
      "parks_nearest           5477 non-null float64\n",
      "ponds_around3000        13977 non-null float64\n",
      "ponds_nearest           6497 non-null float64\n",
      "days_exposition         18897 non-null int64\n",
      "year                    18897 non-null int64\n",
      "weekday                 18897 non-null int64\n",
      "month                   18897 non-null int64\n",
      "price_per_m2            18897 non-null float64\n",
      "floor_category          18897 non-null object\n",
      "ratio_living_area       18897 non-null float64\n",
      "ratio_kitchen_area      18897 non-null float64\n",
      "dtypes: bool(3), datetime64[ns](1), float64(14), int64(9), object(2)\n",
      "memory usage: 3.9+ MB\n"
     ]
    },
    {
     "data": {
      "text/html": [
       "<div>\n",
       "<style scoped>\n",
       "    .dataframe tbody tr th:only-of-type {\n",
       "        vertical-align: middle;\n",
       "    }\n",
       "\n",
       "    .dataframe tbody tr th {\n",
       "        vertical-align: top;\n",
       "    }\n",
       "\n",
       "    .dataframe thead th {\n",
       "        text-align: right;\n",
       "    }\n",
       "</style>\n",
       "<table border=\"1\" class=\"dataframe\">\n",
       "  <thead>\n",
       "    <tr style=\"text-align: right;\">\n",
       "      <th></th>\n",
       "      <th>total_images</th>\n",
       "      <th>last_price</th>\n",
       "      <th>total_area</th>\n",
       "      <th>rooms</th>\n",
       "      <th>ceiling_height</th>\n",
       "      <th>floors_total</th>\n",
       "      <th>living_area</th>\n",
       "      <th>floor</th>\n",
       "      <th>kitchen_area</th>\n",
       "      <th>balcony</th>\n",
       "      <th>...</th>\n",
       "      <th>parks_nearest</th>\n",
       "      <th>ponds_around3000</th>\n",
       "      <th>ponds_nearest</th>\n",
       "      <th>days_exposition</th>\n",
       "      <th>year</th>\n",
       "      <th>weekday</th>\n",
       "      <th>month</th>\n",
       "      <th>price_per_m2</th>\n",
       "      <th>ratio_living_area</th>\n",
       "      <th>ratio_kitchen_area</th>\n",
       "    </tr>\n",
       "  </thead>\n",
       "  <tbody>\n",
       "    <tr>\n",
       "      <td>count</td>\n",
       "      <td>18897.000000</td>\n",
       "      <td>1.889700e+04</td>\n",
       "      <td>18897.000000</td>\n",
       "      <td>18897.000000</td>\n",
       "      <td>18897.000000</td>\n",
       "      <td>18897.000000</td>\n",
       "      <td>18897.000000</td>\n",
       "      <td>18897.000000</td>\n",
       "      <td>18897.000000</td>\n",
       "      <td>18897.000000</td>\n",
       "      <td>...</td>\n",
       "      <td>5477.000000</td>\n",
       "      <td>13977.000000</td>\n",
       "      <td>6497.000000</td>\n",
       "      <td>18897.000000</td>\n",
       "      <td>18897.000000</td>\n",
       "      <td>18897.000000</td>\n",
       "      <td>18897.000000</td>\n",
       "      <td>18897.000000</td>\n",
       "      <td>18897.000000</td>\n",
       "      <td>18897.000000</td>\n",
       "    </tr>\n",
       "    <tr>\n",
       "      <td>mean</td>\n",
       "      <td>9.774885</td>\n",
       "      <td>4.796355e+06</td>\n",
       "      <td>52.299628</td>\n",
       "      <td>1.897814</td>\n",
       "      <td>2.629380</td>\n",
       "      <td>11.257237</td>\n",
       "      <td>29.434828</td>\n",
       "      <td>6.131344</td>\n",
       "      <td>9.413695</td>\n",
       "      <td>0.620310</td>\n",
       "      <td>...</td>\n",
       "      <td>501.319153</td>\n",
       "      <td>0.666380</td>\n",
       "      <td>541.078498</td>\n",
       "      <td>120.605652</td>\n",
       "      <td>2017.483251</td>\n",
       "      <td>2.589512</td>\n",
       "      <td>6.414881</td>\n",
       "      <td>91910.274140</td>\n",
       "      <td>0.556766</td>\n",
       "      <td>0.190397</td>\n",
       "    </tr>\n",
       "    <tr>\n",
       "      <td>std</td>\n",
       "      <td>5.568631</td>\n",
       "      <td>2.395924e+06</td>\n",
       "      <td>18.261116</td>\n",
       "      <td>0.889648</td>\n",
       "      <td>0.081523</td>\n",
       "      <td>6.682312</td>\n",
       "      <td>12.448082</td>\n",
       "      <td>5.007467</td>\n",
       "      <td>3.707347</td>\n",
       "      <td>0.956027</td>\n",
       "      <td>...</td>\n",
       "      <td>334.386943</td>\n",
       "      <td>0.856694</td>\n",
       "      <td>277.288541</td>\n",
       "      <td>125.775394</td>\n",
       "      <td>0.926459</td>\n",
       "      <td>1.795139</td>\n",
       "      <td>3.487149</td>\n",
       "      <td>30074.124473</td>\n",
       "      <td>0.104115</td>\n",
       "      <td>0.069183</td>\n",
       "    </tr>\n",
       "    <tr>\n",
       "      <td>min</td>\n",
       "      <td>0.000000</td>\n",
       "      <td>1.219000e+04</td>\n",
       "      <td>12.000000</td>\n",
       "      <td>0.000000</td>\n",
       "      <td>2.460000</td>\n",
       "      <td>1.000000</td>\n",
       "      <td>2.000000</td>\n",
       "      <td>1.000000</td>\n",
       "      <td>1.300000</td>\n",
       "      <td>0.000000</td>\n",
       "      <td>...</td>\n",
       "      <td>1.000000</td>\n",
       "      <td>0.000000</td>\n",
       "      <td>13.000000</td>\n",
       "      <td>1.000000</td>\n",
       "      <td>2014.000000</td>\n",
       "      <td>0.000000</td>\n",
       "      <td>1.000000</td>\n",
       "      <td>111.834862</td>\n",
       "      <td>0.069588</td>\n",
       "      <td>0.043524</td>\n",
       "    </tr>\n",
       "    <tr>\n",
       "      <td>25%</td>\n",
       "      <td>6.000000</td>\n",
       "      <td>3.250000e+06</td>\n",
       "      <td>38.300000</td>\n",
       "      <td>1.000000</td>\n",
       "      <td>2.570000</td>\n",
       "      <td>5.000000</td>\n",
       "      <td>18.300000</td>\n",
       "      <td>2.000000</td>\n",
       "      <td>7.000000</td>\n",
       "      <td>0.000000</td>\n",
       "      <td>...</td>\n",
       "      <td>302.000000</td>\n",
       "      <td>0.000000</td>\n",
       "      <td>327.000000</td>\n",
       "      <td>30.000000</td>\n",
       "      <td>2017.000000</td>\n",
       "      <td>1.000000</td>\n",
       "      <td>3.000000</td>\n",
       "      <td>74242.424242</td>\n",
       "      <td>0.484848</td>\n",
       "      <td>0.139442</td>\n",
       "    </tr>\n",
       "    <tr>\n",
       "      <td>50%</td>\n",
       "      <td>9.000000</td>\n",
       "      <td>4.300000e+06</td>\n",
       "      <td>48.000000</td>\n",
       "      <td>2.000000</td>\n",
       "      <td>2.650000</td>\n",
       "      <td>9.000000</td>\n",
       "      <td>28.600000</td>\n",
       "      <td>5.000000</td>\n",
       "      <td>8.710000</td>\n",
       "      <td>0.000000</td>\n",
       "      <td>...</td>\n",
       "      <td>469.000000</td>\n",
       "      <td>0.000000</td>\n",
       "      <td>527.000000</td>\n",
       "      <td>67.000000</td>\n",
       "      <td>2018.000000</td>\n",
       "      <td>3.000000</td>\n",
       "      <td>6.000000</td>\n",
       "      <td>92336.683417</td>\n",
       "      <td>0.558233</td>\n",
       "      <td>0.175041</td>\n",
       "    </tr>\n",
       "    <tr>\n",
       "      <td>75%</td>\n",
       "      <td>14.000000</td>\n",
       "      <td>5.790000e+06</td>\n",
       "      <td>62.200000</td>\n",
       "      <td>3.000000</td>\n",
       "      <td>2.650000</td>\n",
       "      <td>16.000000</td>\n",
       "      <td>38.000000</td>\n",
       "      <td>8.000000</td>\n",
       "      <td>11.000000</td>\n",
       "      <td>1.000000</td>\n",
       "      <td>...</td>\n",
       "      <td>627.000000</td>\n",
       "      <td>1.000000</td>\n",
       "      <td>755.000000</td>\n",
       "      <td>164.000000</td>\n",
       "      <td>2018.000000</td>\n",
       "      <td>4.000000</td>\n",
       "      <td>10.000000</td>\n",
       "      <td>109177.215190</td>\n",
       "      <td>0.627907</td>\n",
       "      <td>0.233933</td>\n",
       "    </tr>\n",
       "    <tr>\n",
       "      <td>max</td>\n",
       "      <td>50.000000</td>\n",
       "      <td>1.509300e+07</td>\n",
       "      <td>125.800000</td>\n",
       "      <td>7.000000</td>\n",
       "      <td>2.850000</td>\n",
       "      <td>52.000000</td>\n",
       "      <td>96.000000</td>\n",
       "      <td>33.000000</td>\n",
       "      <td>60.000000</td>\n",
       "      <td>5.000000</td>\n",
       "      <td>...</td>\n",
       "      <td>3190.000000</td>\n",
       "      <td>3.000000</td>\n",
       "      <td>1344.000000</td>\n",
       "      <td>579.000000</td>\n",
       "      <td>2019.000000</td>\n",
       "      <td>6.000000</td>\n",
       "      <td>12.000000</td>\n",
       "      <td>387096.774194</td>\n",
       "      <td>1.430769</td>\n",
       "      <td>0.787879</td>\n",
       "    </tr>\n",
       "  </tbody>\n",
       "</table>\n",
       "<p>8 rows × 23 columns</p>\n",
       "</div>"
      ],
      "text/plain": [
       "       total_images    last_price    total_area         rooms  ceiling_height  \\\n",
       "count  18897.000000  1.889700e+04  18897.000000  18897.000000    18897.000000   \n",
       "mean       9.774885  4.796355e+06     52.299628      1.897814        2.629380   \n",
       "std        5.568631  2.395924e+06     18.261116      0.889648        0.081523   \n",
       "min        0.000000  1.219000e+04     12.000000      0.000000        2.460000   \n",
       "25%        6.000000  3.250000e+06     38.300000      1.000000        2.570000   \n",
       "50%        9.000000  4.300000e+06     48.000000      2.000000        2.650000   \n",
       "75%       14.000000  5.790000e+06     62.200000      3.000000        2.650000   \n",
       "max       50.000000  1.509300e+07    125.800000      7.000000        2.850000   \n",
       "\n",
       "       floors_total   living_area         floor  kitchen_area       balcony  \\\n",
       "count  18897.000000  18897.000000  18897.000000  18897.000000  18897.000000   \n",
       "mean      11.257237     29.434828      6.131344      9.413695      0.620310   \n",
       "std        6.682312     12.448082      5.007467      3.707347      0.956027   \n",
       "min        1.000000      2.000000      1.000000      1.300000      0.000000   \n",
       "25%        5.000000     18.300000      2.000000      7.000000      0.000000   \n",
       "50%        9.000000     28.600000      5.000000      8.710000      0.000000   \n",
       "75%       16.000000     38.000000      8.000000     11.000000      1.000000   \n",
       "max       52.000000     96.000000     33.000000     60.000000      5.000000   \n",
       "\n",
       "       ...  parks_nearest  ponds_around3000  ponds_nearest  days_exposition  \\\n",
       "count  ...    5477.000000      13977.000000    6497.000000     18897.000000   \n",
       "mean   ...     501.319153          0.666380     541.078498       120.605652   \n",
       "std    ...     334.386943          0.856694     277.288541       125.775394   \n",
       "min    ...       1.000000          0.000000      13.000000         1.000000   \n",
       "25%    ...     302.000000          0.000000     327.000000        30.000000   \n",
       "50%    ...     469.000000          0.000000     527.000000        67.000000   \n",
       "75%    ...     627.000000          1.000000     755.000000       164.000000   \n",
       "max    ...    3190.000000          3.000000    1344.000000       579.000000   \n",
       "\n",
       "               year       weekday         month   price_per_m2  \\\n",
       "count  18897.000000  18897.000000  18897.000000   18897.000000   \n",
       "mean    2017.483251      2.589512      6.414881   91910.274140   \n",
       "std        0.926459      1.795139      3.487149   30074.124473   \n",
       "min     2014.000000      0.000000      1.000000     111.834862   \n",
       "25%     2017.000000      1.000000      3.000000   74242.424242   \n",
       "50%     2018.000000      3.000000      6.000000   92336.683417   \n",
       "75%     2018.000000      4.000000     10.000000  109177.215190   \n",
       "max     2019.000000      6.000000     12.000000  387096.774194   \n",
       "\n",
       "       ratio_living_area  ratio_kitchen_area  \n",
       "count       18897.000000        18897.000000  \n",
       "mean            0.556766            0.190397  \n",
       "std             0.104115            0.069183  \n",
       "min             0.069588            0.043524  \n",
       "25%             0.484848            0.139442  \n",
       "50%             0.558233            0.175041  \n",
       "75%             0.627907            0.233933  \n",
       "max             1.430769            0.787879  \n",
       "\n",
       "[8 rows x 23 columns]"
      ]
     },
     "execution_count": 43,
     "metadata": {},
     "output_type": "execute_result"
    }
   ],
   "source": [
    "filtered_data.info()\n",
    "filtered_data.describe()"
   ]
  },
  {
   "cell_type": "markdown",
   "metadata": {},
   "source": [
    "Удаление 1% или 5% наблюдений при выборе редких и выбивающихся значений полезно только в том случае, если стандартное отклонение после удаления этих данных при этом методе приходит в норму.\n",
    "\n",
    "Можно сразу пользоваться расчетом межквартильного размаха, но это чревато удалением бОльшего количества данных, пригодного для анализа.\n",
    "\n",
    "**last_price** - убраны значения более 15.2 млн рублей путем удаления 5% верхних значений\n",
    "\n",
    "**total_area** - Квартира в 900 кв.м. больше не находится в таблице, это произошло при удалении выбросов в колонке last_price, максимальное значение стало 320 кв.м. Согласно описательной статистике, данные годны для анализа.\n",
    "\n",
    "**rooms** - так же, как и с общей площадью, 19комнатная квартира исчезла с радаром. А все остальное пригодно, так как выбросы не искажают общую картину.\n",
    "\n",
    "**ceiling_height** - значения за усами ящика убраны, так как данный признак четко определен, прежде всего, законодательно.\n",
    "\n",
    "**days_exposition** - удаление 5 % верхних значений повлияло в целом хорошо, данные пригодны для анализа. Обращаем внимание, что необычайно долгая продажа теперь - это продажа, занимающая более 579 дней (чуть больше 1,5 года)\n",
    "\n"
   ]
  },
  {
   "cell_type": "markdown",
   "metadata": {},
   "source": [
    "##### 4) Какие факторы больше всего влияют на стоимость квартиры? Изучите, зависит ли цена от квадратного метра, числа комнат, удалённости от центра. Изучите зависимость цены от того, на каком этаже расположена квартира: первом, последнем или другом. Также изучите зависимость от даты размещения: дня недели, месяца и года. #####\n"
   ]
  },
  {
   "cell_type": "markdown",
   "metadata": {},
   "source": [
    "##### Изучение зависимости цены от квадратного метра, числа комнат и удаленности от центра"
   ]
  },
  {
   "cell_type": "code",
   "execution_count": 44,
   "metadata": {},
   "outputs": [
    {
     "data": {
      "text/html": [
       "<div>\n",
       "<style scoped>\n",
       "    .dataframe tbody tr th:only-of-type {\n",
       "        vertical-align: middle;\n",
       "    }\n",
       "\n",
       "    .dataframe tbody tr th {\n",
       "        vertical-align: top;\n",
       "    }\n",
       "\n",
       "    .dataframe thead th {\n",
       "        text-align: right;\n",
       "    }\n",
       "</style>\n",
       "<table border=\"1\" class=\"dataframe\">\n",
       "  <thead>\n",
       "    <tr style=\"text-align: right;\">\n",
       "      <th></th>\n",
       "      <th>last_price</th>\n",
       "      <th>total_area</th>\n",
       "      <th>rooms</th>\n",
       "      <th>cityCenters_nearest</th>\n",
       "    </tr>\n",
       "  </thead>\n",
       "  <tbody>\n",
       "    <tr>\n",
       "      <td>10794</td>\n",
       "      <td>2750000.0</td>\n",
       "      <td>44.0</td>\n",
       "      <td>2</td>\n",
       "      <td>NaN</td>\n",
       "    </tr>\n",
       "    <tr>\n",
       "      <td>12421</td>\n",
       "      <td>1350000.0</td>\n",
       "      <td>31.0</td>\n",
       "      <td>1</td>\n",
       "      <td>NaN</td>\n",
       "    </tr>\n",
       "    <tr>\n",
       "      <td>8706</td>\n",
       "      <td>5300000.0</td>\n",
       "      <td>77.8</td>\n",
       "      <td>3</td>\n",
       "      <td>NaN</td>\n",
       "    </tr>\n",
       "    <tr>\n",
       "      <td>20179</td>\n",
       "      <td>4450000.0</td>\n",
       "      <td>38.9</td>\n",
       "      <td>1</td>\n",
       "      <td>12403.0</td>\n",
       "    </tr>\n",
       "    <tr>\n",
       "      <td>2716</td>\n",
       "      <td>5050000.0</td>\n",
       "      <td>60.0</td>\n",
       "      <td>2</td>\n",
       "      <td>4262.0</td>\n",
       "    </tr>\n",
       "  </tbody>\n",
       "</table>\n",
       "</div>"
      ],
      "text/plain": [
       "       last_price  total_area  rooms  cityCenters_nearest\n",
       "10794   2750000.0        44.0      2                  NaN\n",
       "12421   1350000.0        31.0      1                  NaN\n",
       "8706    5300000.0        77.8      3                  NaN\n",
       "20179   4450000.0        38.9      1              12403.0\n",
       "2716    5050000.0        60.0      2               4262.0"
      ]
     },
     "metadata": {},
     "output_type": "display_data"
    },
    {
     "data": {
      "image/png": "[encoded data removed]",
      "text/plain": [
       "<Figure size 432x288 with 2 Axes>"
      ]
     },
     "metadata": {},
     "output_type": "display_data"
    },
    {
     "data": {
      "image/png": "[encoded data removed]",
      "text/plain": [
       "<Figure size 432x288 with 1 Axes>"
      ]
     },
     "metadata": {},
     "output_type": "display_data"
    },
    {
     "data": {
      "image/png": "[encoded data removed]",
      "text/plain": [
       "<Figure size 432x288 with 1 Axes>"
      ]
     },
     "metadata": {},
     "output_type": "display_data"
    },
    {
     "data": {
      "image/png": "[encoded data removed]",
      "text/plain": [
       "<Figure size 432x288 with 1 Axes>"
      ]
     },
     "metadata": {},
     "output_type": "display_data"
    }
   ],
   "source": [
    "data_stat_1 = filtered_data[\n",
    "    ['last_price', 'total_area', 'rooms', 'cityCenters_nearest']]\n",
    "display(data_stat_1.sample(5))\n",
    "\n",
    "# Создание словаря для подписи графиков\n",
    "dict_stat = {'last_price': 'цена квартиры, руб', 'total_area':\n",
    "        'общая площадь, м2', 'rooms': 'число комнат, шт', 'cityCenters_nearest':\n",
    "        'расстояние до центра города, м'}\n",
    "\n",
    "# Создание визуального представления таблицы с индексами корреляции по заданному срезу\n",
    "corrdata_stat_1 = data_stat_1.corr()\n",
    "sn.heatmap(corrdata_stat_1, annot=True)\n",
    "plt.show()\n",
    "\n",
    "# Создание scatter графиков для наглядного представления зависимости столбцов\n",
    "for x in data_stat_1.loc[:, 'total_area':]:\n",
    "    data_stat_1.plot.scatter(x=x, y='last_price')\n",
    "    plt.ylabel(dict_stat['last_price'])\n",
    "    plt.xlabel(dict_stat[x])\n",
    "    plt.show()\n"
   ]
  },
  {
   "cell_type": "markdown",
   "metadata": {},
   "source": [
    "Кажется, больше всего на цену квартиры влияет ее метраж. \n",
    "Скорее всего, вкупе с расстоянием до центра будет давать еще выше корреляцию.\n",
    "Зависимость с количеством комнат связана, прежде всего, с метражом квартиры."
   ]
  },
  {
   "cell_type": "markdown",
   "metadata": {},
   "source": [
    "##### * Изучение зависимости цены от того, на каком этаже расположена квартира: первом, последнем или другом."
   ]
  },
  {
   "cell_type": "code",
   "execution_count": 45,
   "metadata": {
    "scrolled": false
   },
   "outputs": [
    {
     "data": {
      "text/html": [
       "<div>\n",
       "<style scoped>\n",
       "    .dataframe tbody tr th:only-of-type {\n",
       "        vertical-align: middle;\n",
       "    }\n",
       "\n",
       "    .dataframe tbody tr th {\n",
       "        vertical-align: top;\n",
       "    }\n",
       "\n",
       "    .dataframe thead th {\n",
       "        text-align: right;\n",
       "    }\n",
       "</style>\n",
       "<table border=\"1\" class=\"dataframe\">\n",
       "  <thead>\n",
       "    <tr style=\"text-align: right;\">\n",
       "      <th></th>\n",
       "      <th>last_price</th>\n",
       "      <th>floor_category_numeric</th>\n",
       "    </tr>\n",
       "  </thead>\n",
       "  <tbody>\n",
       "    <tr>\n",
       "      <td>505</td>\n",
       "      <td>4500000.0</td>\n",
       "      <td>2</td>\n",
       "    </tr>\n",
       "    <tr>\n",
       "      <td>23326</td>\n",
       "      <td>4090000.0</td>\n",
       "      <td>2</td>\n",
       "    </tr>\n",
       "    <tr>\n",
       "      <td>5260</td>\n",
       "      <td>6150000.0</td>\n",
       "      <td>2</td>\n",
       "    </tr>\n",
       "    <tr>\n",
       "      <td>10800</td>\n",
       "      <td>8400000.0</td>\n",
       "      <td>2</td>\n",
       "    </tr>\n",
       "    <tr>\n",
       "      <td>18288</td>\n",
       "      <td>1300000.0</td>\n",
       "      <td>3</td>\n",
       "    </tr>\n",
       "  </tbody>\n",
       "</table>\n",
       "</div>"
      ],
      "text/plain": [
       "       last_price  floor_category_numeric\n",
       "505     4500000.0                       2\n",
       "23326   4090000.0                       2\n",
       "5260    6150000.0                       2\n",
       "10800   8400000.0                       2\n",
       "18288   1300000.0                       3"
      ]
     },
     "metadata": {},
     "output_type": "display_data"
    },
    {
     "data": {
      "image/png": "[encoded data removed]",
      "text/plain": [
       "<Figure size 432x288 with 2 Axes>"
      ]
     },
     "metadata": {},
     "output_type": "display_data"
    },
    {
     "data": {
      "image/png": "[encoded data removed]",
      "text/plain": [
       "<Figure size 432x288 with 1 Axes>"
      ]
     },
     "metadata": {},
     "output_type": "display_data"
    }
   ],
   "source": [
    "# Конвертируем категориальный признак в числовые данные, где 1 - первый этаж, 2 - другой и 3-последний\n",
    "dict_floor_category = {'первый' : 1, 'другой' : 2, 'последний' : 3}\n",
    "filtered_data['floor_category_numeric'] = filtered_data['floor_category'].apply(lambda x: dict_floor_category[x])\n",
    "\n",
    "data_stat_2 = filtered_data[\n",
    "    ['last_price', 'floor_category_numeric']]\n",
    "display(data_stat_2.sample(5))\n",
    "\n",
    "# Добавление элемента в словарь для подписи осей\n",
    "dict_stat['floor_category_numeric'] = 'этаж квартиры: первый (1), другой (2), последний (3)'\n",
    "\n",
    "corrdata_stat_2 = data_stat_2.corr()\n",
    "sn.heatmap(corrdata_stat_2, annot=True)\n",
    "plt.show()\n",
    "\n",
    "data_stat_2.plot.scatter(x='floor_category_numeric', y='last_price')\n",
    "plt.ylabel(dict_stat['last_price'])\n",
    "plt.xlabel(dict_stat['floor_category_numeric'])\n",
    "plt.show()"
   ]
  },
  {
   "cell_type": "markdown",
   "metadata": {},
   "source": [
    "Корреляция слабая отрицательная. Может быть, до повсеместного распространения лифтов ситуация была бы иной."
   ]
  },
  {
   "cell_type": "markdown",
   "metadata": {},
   "source": [
    "##### * Изучение зависимости цены от даты размещения: дня недели, месяца и года."
   ]
  },
  {
   "cell_type": "code",
   "execution_count": 46,
   "metadata": {
    "scrolled": true
   },
   "outputs": [
    {
     "data": {
      "text/html": [
       "<div>\n",
       "<style scoped>\n",
       "    .dataframe tbody tr th:only-of-type {\n",
       "        vertical-align: middle;\n",
       "    }\n",
       "\n",
       "    .dataframe tbody tr th {\n",
       "        vertical-align: top;\n",
       "    }\n",
       "\n",
       "    .dataframe thead th {\n",
       "        text-align: right;\n",
       "    }\n",
       "</style>\n",
       "<table border=\"1\" class=\"dataframe\">\n",
       "  <thead>\n",
       "    <tr style=\"text-align: right;\">\n",
       "      <th></th>\n",
       "      <th>last_price</th>\n",
       "      <th>weekday</th>\n",
       "      <th>month</th>\n",
       "      <th>year</th>\n",
       "    </tr>\n",
       "  </thead>\n",
       "  <tbody>\n",
       "    <tr>\n",
       "      <td>13926</td>\n",
       "      <td>4000000.0</td>\n",
       "      <td>3</td>\n",
       "      <td>3</td>\n",
       "      <td>2018</td>\n",
       "    </tr>\n",
       "    <tr>\n",
       "      <td>6754</td>\n",
       "      <td>1800000.0</td>\n",
       "      <td>3</td>\n",
       "      <td>12</td>\n",
       "      <td>2017</td>\n",
       "    </tr>\n",
       "    <tr>\n",
       "      <td>22427</td>\n",
       "      <td>8000000.0</td>\n",
       "      <td>3</td>\n",
       "      <td>2</td>\n",
       "      <td>2018</td>\n",
       "    </tr>\n",
       "    <tr>\n",
       "      <td>2582</td>\n",
       "      <td>6200000.0</td>\n",
       "      <td>0</td>\n",
       "      <td>12</td>\n",
       "      <td>2015</td>\n",
       "    </tr>\n",
       "    <tr>\n",
       "      <td>18151</td>\n",
       "      <td>5095000.0</td>\n",
       "      <td>2</td>\n",
       "      <td>4</td>\n",
       "      <td>2016</td>\n",
       "    </tr>\n",
       "  </tbody>\n",
       "</table>\n",
       "</div>"
      ],
      "text/plain": [
       "       last_price  weekday  month  year\n",
       "13926   4000000.0        3      3  2018\n",
       "6754    1800000.0        3     12  2017\n",
       "22427   8000000.0        3      2  2018\n",
       "2582    6200000.0        0     12  2015\n",
       "18151   5095000.0        2      4  2016"
      ]
     },
     "metadata": {},
     "output_type": "display_data"
    },
    {
     "data": {
      "image/png": "[encoded data removed]",
      "text/plain": [
       "<Figure size 432x288 with 2 Axes>"
      ]
     },
     "metadata": {},
     "output_type": "display_data"
    },
    {
     "data": {
      "image/png": "[encoded data removed]",
      "text/plain": [
       "<Figure size 432x288 with 1 Axes>"
      ]
     },
     "metadata": {},
     "output_type": "display_data"
    },
    {
     "data": {
      "image/png": "[encoded data removed]",
      "text/plain": [
       "<Figure size 432x288 with 1 Axes>"
      ]
     },
     "metadata": {},
     "output_type": "display_data"
    },
    {
     "data": {
      "image/png": "[encoded data removed]",
      "text/plain": [
       "<Figure size 432x288 with 1 Axes>"
      ]
     },
     "metadata": {},
     "output_type": "display_data"
    }
   ],
   "source": [
    "data_stat_3 = filtered_data[\n",
    "    ['last_price', 'weekday', 'month', 'year']]\n",
    "display(data_stat_3.sample(5))\n",
    "\n",
    "# Добавление элементов в словарь для подписи осей\n",
    "dict_stat['weekday'] = 'день недели публикации объявления'\n",
    "dict_stat['month'] = 'месяц публикации объявления'\n",
    "dict_stat['year'] = 'год публикации объявления'\n",
    "\n",
    "corrdata_stat_3 = data_stat_3.corr()\n",
    "sn.heatmap(corrdata_stat_3, annot=True)\n",
    "plt.show()\n",
    "\n",
    "for x in data_stat_3.loc[:, 'weekday':]:\n",
    "    data_stat_3.plot.scatter(x=x, y='last_price')\n",
    "    plt.ylabel(dict_stat['last_price'])\n",
    "    plt.xlabel(dict_stat[x])\n",
    "    plt.show()\n"
   ]
  },
  {
   "cell_type": "markdown",
   "metadata": {},
   "source": [
    "Цена вообще не зависит от даты публикации объявлений"
   ]
  },
  {
   "cell_type": "markdown",
   "metadata": {},
   "source": [
    "##### Зависимость цены квартиры от квадратного метра, количеством комнат и удаленности от центра.\n",
    "\n",
    "Самая сильная положительная зависимость цены квартиры от ее площади - чем больше квартира, чем выше цена. Между тем, видно, что есть огромное множество квартир до 6 млн, имеют достаточно широкий размах по площади квартиры. Показатель корреляции 0,67, что является средним показателем, так как входит в интервал до 0,7. Тем не менее, с учетом дополнительного фактора, допустим, удаленности от центра города, - такая корреляция возможно будет стремиться к 1.\n",
    "\n",
    "Что касается зависимости цены от количества комнат - она слабая. Конечно, наглядно видно, что квартиры с продажами 0 комнат (студии, малосемейки и т.д.), представлены по большей части в ценовом диапазоне до 4-5 млн, однушки - до 7 млн, двушки и трешки представлены в каждом ценовом сегменте примерно одинаково, 4х комнатные - редки, но в ценовом диапазоне от 3 до 10 млн руб. Это говорит о том, что во-первых, влияет площадь квартиры. И вряд ли найдутся однокомнатные квартиры площадью более 100 кв.м. Это неудобно, не функционально. Двушки и трешки же, напротив, разные по метражу и по функциональности. А четырехкомнатные квартиры большой площади - это редкость. Скорее всего, те, кто любит размах и готовы выложить много денег, покупают дома.\n",
    "\n",
    "В ситуации с расстоянием до центра - корреляция отрицательная и средняя. Чем дальше от центра, тем дешевле квартира - это действительно так, но огромное количество квартир разной ценовой категории расположены в близости от центра города. Так сказать, на любой вкус и кошелек. Зависит от площади квартиры и, возможно, других факторов.\n"
   ]
  },
  {
   "cell_type": "markdown",
   "metadata": {},
   "source": [
    "##### Зависимость цены от этажа квартиры.\n",
    "Так как наибольшее количество квартир расположены не на крайних этажах дома, сложно сравнивать их с другими. Тем не менее.\n",
    "Зависимость цены от количества этажей очень слабая. Это и понятно. Сейчас везде лифты, а то и два-три. Однако квартиры на первых этажах в основном, продаются в ценовом диапазоне до 4 млн руб. Наверное, никому не нравятся, когда заглядывают в окна, да еще и риски быть обворованным возрастают, нужна система безопасности."
   ]
  },
  {
   "cell_type": "markdown",
   "metadata": {},
   "source": [
    "##### Зависимость цены от дня, месяца и года публикации объявления.\n",
    "Зависимость цены квартиры от даты публикации объявлений очень слабая. Ее почти нет. \n",
    "Можно заметить, что объявления реже выходят по выходным и в летние месяцы. В 2014 году почти не было объявлений, наверное, проект только стартовал. А в 2019 году объявлений стало меньше - влияние Авито, Юлы и Циан?"
   ]
  },
  {
   "cell_type": "markdown",
   "metadata": {},
   "source": [
    "##### 5) Выберите 10 населённых пунктов с наибольшим числом объявлений. Посчитайте среднюю цену квадратного метра в этих населённых пунктах. Выделите населённые пункты с самой высокой и низкой стоимостью жилья. Эти данные можно найти по имени в столбце 'locality_name'. ##### "
   ]
  },
  {
   "cell_type": "code",
   "execution_count": 47,
   "metadata": {},
   "outputs": [
    {
     "data": {
      "text/html": [
       "<div>\n",
       "<style scoped>\n",
       "    .dataframe tbody tr th:only-of-type {\n",
       "        vertical-align: middle;\n",
       "    }\n",
       "\n",
       "    .dataframe tbody tr th {\n",
       "        vertical-align: top;\n",
       "    }\n",
       "\n",
       "    .dataframe thead th {\n",
       "        text-align: right;\n",
       "    }\n",
       "</style>\n",
       "<table border=\"1\" class=\"dataframe\">\n",
       "  <thead>\n",
       "    <tr style=\"text-align: right;\">\n",
       "      <th></th>\n",
       "      <th>ads_count</th>\n",
       "      <th>mean_price_per_m2</th>\n",
       "    </tr>\n",
       "    <tr>\n",
       "      <th>locality_name</th>\n",
       "      <th></th>\n",
       "      <th></th>\n",
       "    </tr>\n",
       "  </thead>\n",
       "  <tbody>\n",
       "    <tr>\n",
       "      <td>Санкт-Петербург</td>\n",
       "      <td>11822</td>\n",
       "      <td>105986.537099</td>\n",
       "    </tr>\n",
       "    <tr>\n",
       "      <td>Пушкин</td>\n",
       "      <td>285</td>\n",
       "      <td>100288.345004</td>\n",
       "    </tr>\n",
       "    <tr>\n",
       "      <td>деревня Кудрово</td>\n",
       "      <td>273</td>\n",
       "      <td>92789.260464</td>\n",
       "    </tr>\n",
       "    <tr>\n",
       "      <td>посёлок Парголово</td>\n",
       "      <td>314</td>\n",
       "      <td>90048.513213</td>\n",
       "    </tr>\n",
       "    <tr>\n",
       "      <td>посёлок Мурино</td>\n",
       "      <td>493</td>\n",
       "      <td>85801.271057</td>\n",
       "    </tr>\n",
       "    <tr>\n",
       "      <td>посёлок Шушары</td>\n",
       "      <td>419</td>\n",
       "      <td>78500.940603</td>\n",
       "    </tr>\n",
       "    <tr>\n",
       "      <td>Колпино</td>\n",
       "      <td>305</td>\n",
       "      <td>75444.081149</td>\n",
       "    </tr>\n",
       "    <tr>\n",
       "      <td>Гатчина</td>\n",
       "      <td>267</td>\n",
       "      <td>68674.640703</td>\n",
       "    </tr>\n",
       "    <tr>\n",
       "      <td>Всеволожск</td>\n",
       "      <td>352</td>\n",
       "      <td>66995.231633</td>\n",
       "    </tr>\n",
       "    <tr>\n",
       "      <td>Выборг</td>\n",
       "      <td>196</td>\n",
       "      <td>57724.247977</td>\n",
       "    </tr>\n",
       "  </tbody>\n",
       "</table>\n",
       "</div>"
      ],
      "text/plain": [
       "                   ads_count  mean_price_per_m2\n",
       "locality_name                                  \n",
       "Санкт-Петербург        11822      105986.537099\n",
       "Пушкин                   285      100288.345004\n",
       "деревня Кудрово          273       92789.260464\n",
       "посёлок Парголово        314       90048.513213\n",
       "посёлок Мурино           493       85801.271057\n",
       "посёлок Шушары           419       78500.940603\n",
       "Колпино                  305       75444.081149\n",
       "Гатчина                  267       68674.640703\n",
       "Всеволожск               352       66995.231633\n",
       "Выборг                   196       57724.247977"
      ]
     },
     "metadata": {},
     "output_type": "display_data"
    }
   ],
   "source": [
    "# Создание переменной, в которой содержаться топ-10 населенных пунктов по убыванию количества объявлений\n",
    "locality_rating = filtered_data['locality_name'].value_counts().head(10)\n",
    "\n",
    "# Функция пользуется срезом данных, где населенные пункты входят в список индексов предыдущей переменной и группирует\n",
    "# данные по средней стоимости квартир.\n",
    "data_locality_stat = filtered_data.query('locality_name in @locality_rating.index').pivot_table(index='locality_name', values='price_per_m2', aggfunc=['count', 'mean'])\n",
    "data_locality_stat.columns = ['ads_count', 'mean_price_per_m2']\n",
    "display(data_locality_stat.sort_values('mean_price_per_m2', ascending=False))\n"
   ]
  },
  {
   "cell_type": "markdown",
   "metadata": {},
   "source": [
    "Результат неудивителен - в Санкт-Петербурге самые дорогие квартиры из всех населенных пунктах. Так как это культурная столица России, а еще здесь больше предложений о работе, что приводит к большому спросу на квартиры. Но об этом не здесь.\n",
    "Остальные населенные пункты находятся вблизи города, в Кудрово, Парголово, Мурино и Шушары есть даже метро. \n",
    "А Выборг, конечно, прекрасен, но далек от Санкт-Петербурга, и там очень мало работы."
   ]
  },
  {
   "cell_type": "markdown",
   "metadata": {},
   "source": [
    "##### 6)  Изучите предложения квартир: для каждой квартиры есть информация о расстоянии до центра. Выделите квартиры в Санкт-Петербурге ('locality_name'). Ваша задача — выяснить, какая область входит в центр. Создайте столбец с расстоянием до центра в километрах: округлите до целых значений. После этого посчитайте среднюю цену для каждого километра. Постройте график: он должен показывать, как цена зависит от удалённости от центра. Определите границу, где график сильно меняется — это и будет центральная зона. ##### "
   ]
  },
  {
   "cell_type": "code",
   "execution_count": 48,
   "metadata": {},
   "outputs": [
    {
     "name": "stdout",
     "output_type": "stream",
     "text": [
      "<class 'pandas.core.frame.DataFrame'>\n",
      "Int64Index: 11822 entries, 0 to 23691\n",
      "Data columns (total 30 columns):\n",
      "total_images              11822 non-null int64\n",
      "last_price                11822 non-null float64\n",
      "total_area                11822 non-null float64\n",
      "first_day_exposition      11822 non-null datetime64[ns]\n",
      "rooms                     11822 non-null int64\n",
      "ceiling_height            11822 non-null float64\n",
      "floors_total              11822 non-null int64\n",
      "living_area               11822 non-null float64\n",
      "floor                     11822 non-null int64\n",
      "is_apartment              11822 non-null bool\n",
      "studio                    11822 non-null bool\n",
      "open_plan                 11822 non-null bool\n",
      "kitchen_area              11822 non-null float64\n",
      "balcony                   11822 non-null int64\n",
      "locality_name             11822 non-null object\n",
      "airports_nearest          11807 non-null float64\n",
      "cityCenters_nearest       11822 non-null float64\n",
      "parks_around3000          11822 non-null float64\n",
      "parks_nearest             4855 non-null float64\n",
      "ponds_around3000          11822 non-null float64\n",
      "ponds_nearest             5578 non-null float64\n",
      "days_exposition           11822 non-null int64\n",
      "year                      11822 non-null int64\n",
      "weekday                   11822 non-null int64\n",
      "month                     11822 non-null int64\n",
      "price_per_m2              11822 non-null float64\n",
      "floor_category            11822 non-null object\n",
      "ratio_living_area         11822 non-null float64\n",
      "ratio_kitchen_area        11822 non-null float64\n",
      "floor_category_numeric    11822 non-null int64\n",
      "dtypes: bool(3), datetime64[ns](1), float64(14), int64(10), object(2)\n",
      "memory usage: 2.6+ MB\n",
      "count    11822.000000\n",
      "mean        12.320504\n",
      "std          4.162309\n",
      "min          0.000000\n",
      "25%         10.000000\n",
      "50%         13.000000\n",
      "75%         15.000000\n",
      "max         29.000000\n",
      "Name: cityCenters_km, dtype: float64\n",
      "   cityCenters_km           mean        count\n",
      "                    price_per_m2 price_per_m2\n",
      "0               0  121817.113498           24\n",
      "1               1  132161.452722           66\n",
      "2               2  116172.827918           86\n",
      "3               3  115236.163962          176\n",
      "4               4  125953.908712          311\n",
      "5               5  125359.307661          326\n",
      "6               6  127420.923434          230\n",
      "7               7  122698.782141          246\n",
      "8               8  112884.549918          394\n",
      "9               9  106706.228193          529\n",
      "10             10  106690.472009          746\n",
      "11             11  104610.901253         1232\n",
      "12             12  107322.139140         1362\n",
      "13             13  106540.195140         1282\n",
      "14             14  103935.430064         1363\n",
      "15             15  101358.085784         1255\n",
      "16             16   98701.306080         1016\n",
      "17             17   95467.720708          454\n",
      "18             18   94987.537788          160\n",
      "19             19   94921.691244           78\n",
      "20             20  103531.175363           57\n",
      "21             21   91119.827084          175\n",
      "22             22   87940.600230          130\n",
      "23             23   93030.658579           26\n",
      "24             24   82440.343912           22\n",
      "25             25   90581.498379           64\n",
      "26             26   85899.758454            2\n",
      "27             27   70312.500000            1\n",
      "28             28   83755.950996            8\n",
      "29             29   56976.744186            1\n"
     ]
    },
    {
     "name": "stderr",
     "output_type": "stream",
     "text": [
      "/opt/conda/lib/python3.7/site-packages/ipykernel_launcher.py:5: SettingWithCopyWarning: \n",
      "A value is trying to be set on a copy of a slice from a DataFrame.\n",
      "Try using .loc[row_indexer,col_indexer] = value instead\n",
      "\n",
      "See the caveats in the documentation: http://pandas.pydata.org/pandas-docs/stable/user_guide/indexing.html#returning-a-view-versus-a-copy\n",
      "  \"\"\"\n",
      "/opt/conda/lib/python3.7/site-packages/ipykernel_launcher.py:8: SettingWithCopyWarning: \n",
      "A value is trying to be set on a copy of a slice from a DataFrame.\n",
      "Try using .loc[row_indexer,col_indexer] = value instead\n",
      "\n",
      "See the caveats in the documentation: http://pandas.pydata.org/pandas-docs/stable/user_guide/indexing.html#returning-a-view-versus-a-copy\n",
      "  \n",
      "/opt/conda/lib/python3.7/site-packages/ipykernel_launcher.py:10: SettingWithCopyWarning: \n",
      "A value is trying to be set on a copy of a slice from a DataFrame\n",
      "\n",
      "See the caveats in the documentation: http://pandas.pydata.org/pandas-docs/stable/user_guide/indexing.html#returning-a-view-versus-a-copy\n",
      "  # Remove the CWD from sys.path while we load stuff.\n"
     ]
    },
    {
     "data": {
      "text/plain": [
       "<matplotlib.axes._subplots.AxesSubplot at 0x7fee2c049890>"
      ]
     },
     "execution_count": 48,
     "metadata": {},
     "output_type": "execute_result"
    },
    {
     "data": {
      "image/png": "[encoded data removed]",
      "text/plain": [
       "<Figure size 432x288 with 1 Axes>"
      ]
     },
     "metadata": {},
     "output_type": "display_data"
    }
   ],
   "source": [
    "data_spb = filtered_data.query('locality_name == \"Санкт-Петербург\"')\n",
    "data_spb.info()\n",
    "\n",
    "# Создаем стобец с километражем\n",
    "data_spb['cityCenters_km'] = data_spb['cityCenters_nearest'] / 1000\n",
    "\n",
    "# Приведение километража в целочисленные значения для дальнейшей группировки\n",
    "data_spb['cityCenters_km'] = data_spb['cityCenters_km'].astype('int')\n",
    "\n",
    "data_spb.sort_values('cityCenters_km', inplace=True)\n",
    "print(data_spb['cityCenters_km'].describe())\n",
    "\n",
    "# Создаем сводную таблицу, в которой будет отражена средняя цена за кв.м. на каждом километре.\n",
    "# Внедряем индекс слева от таблицы, чтобы в дальшнейшем использовать таблицу для построения графика.\n",
    "price_distance = data_spb.pivot_table(index='cityCenters_km', values = 'price_per_m2', aggfunc=['mean', 'count']).reset_index()\n",
    "print(price_distance)\n",
    "\n",
    "# Построение графика\n",
    "price_distance.columns = ['cityCenters_km','mean_price_per_m2', 'count_flats']\n",
    "price_distance.plot(x='cityCenters_km', y='mean_price_per_m2')\n"
   ]
  },
  {
   "cell_type": "markdown",
   "metadata": {},
   "source": [
    "График очень сильно преломляется в начале своего пути, на двух километрах. Этот промежуток - от 0 до 2 и выделим в качестве центральной зоны города Санкт-Петербурга."
   ]
  },
  {
   "cell_type": "markdown",
   "metadata": {},
   "source": [
    "##### 7)  Выделите сегмент квартир в центре. Проанализируйте эту территорию и изучите следующие параметры: площадь, цена, число комнат, высота потолков. Также выделите факторы, которые влияют на стоимость квартиры (число комнат, этаж, удалённость от центра, дата размещения объявления). Сделайте выводы. Отличаются ли они от общих выводов по всему городу?#####\n"
   ]
  },
  {
   "cell_type": "code",
   "execution_count": 49,
   "metadata": {},
   "outputs": [
    {
     "data": {
      "text/html": [
       "<div>\n",
       "<style scoped>\n",
       "    .dataframe tbody tr th:only-of-type {\n",
       "        vertical-align: middle;\n",
       "    }\n",
       "\n",
       "    .dataframe tbody tr th {\n",
       "        vertical-align: top;\n",
       "    }\n",
       "\n",
       "    .dataframe thead th {\n",
       "        text-align: right;\n",
       "    }\n",
       "</style>\n",
       "<table border=\"1\" class=\"dataframe\">\n",
       "  <thead>\n",
       "    <tr style=\"text-align: right;\">\n",
       "      <th></th>\n",
       "      <th>last_price</th>\n",
       "      <th>total_area</th>\n",
       "      <th>rooms</th>\n",
       "      <th>cityCenters_nearest</th>\n",
       "    </tr>\n",
       "  </thead>\n",
       "  <tbody>\n",
       "    <tr>\n",
       "      <td>1483</td>\n",
       "      <td>6500000.0</td>\n",
       "      <td>72.0</td>\n",
       "      <td>3</td>\n",
       "      <td>1755.0</td>\n",
       "    </tr>\n",
       "    <tr>\n",
       "      <td>17572</td>\n",
       "      <td>11950000.0</td>\n",
       "      <td>80.0</td>\n",
       "      <td>3</td>\n",
       "      <td>1139.0</td>\n",
       "    </tr>\n",
       "    <tr>\n",
       "      <td>16020</td>\n",
       "      <td>9900000.0</td>\n",
       "      <td>75.1</td>\n",
       "      <td>2</td>\n",
       "      <td>1230.0</td>\n",
       "    </tr>\n",
       "    <tr>\n",
       "      <td>19798</td>\n",
       "      <td>9300000.0</td>\n",
       "      <td>83.4</td>\n",
       "      <td>3</td>\n",
       "      <td>2945.0</td>\n",
       "    </tr>\n",
       "    <tr>\n",
       "      <td>19399</td>\n",
       "      <td>7950000.0</td>\n",
       "      <td>46.3</td>\n",
       "      <td>1</td>\n",
       "      <td>2334.0</td>\n",
       "    </tr>\n",
       "  </tbody>\n",
       "</table>\n",
       "</div>"
      ],
      "text/plain": [
       "       last_price  total_area  rooms  cityCenters_nearest\n",
       "1483    6500000.0        72.0      3               1755.0\n",
       "17572  11950000.0        80.0      3               1139.0\n",
       "16020   9900000.0        75.1      2               1230.0\n",
       "19798   9300000.0        83.4      3               2945.0\n",
       "19399   7950000.0        46.3      1               2334.0"
      ]
     },
     "metadata": {},
     "output_type": "display_data"
    },
    {
     "data": {
      "image/png": "[encoded data removed]",
      "text/plain": [
       "<Figure size 432x288 with 2 Axes>"
      ]
     },
     "metadata": {},
     "output_type": "display_data"
    },
    {
     "data": {
      "image/png": "[encoded data removed]",
      "text/plain": [
       "<Figure size 432x288 with 1 Axes>"
      ]
     },
     "metadata": {},
     "output_type": "display_data"
    },
    {
     "data": {
      "image/png": "[encoded data removed]",
      "text/plain": [
       "<Figure size 432x288 with 1 Axes>"
      ]
     },
     "metadata": {},
     "output_type": "display_data"
    },
    {
     "data": {
      "image/png": "[encoded data removed]",
      "text/plain": [
       "<Figure size 432x288 with 1 Axes>"
      ]
     },
     "metadata": {},
     "output_type": "display_data"
    }
   ],
   "source": [
    "data_spb_centre = data_spb.query('cityCenters_km <= 2')\n",
    "data_stat_1_spb_centre = data_spb_centre[\n",
    "    ['last_price', 'total_area', 'rooms', 'cityCenters_nearest']]\n",
    "display(data_stat_1_spb_centre.sample(5))\n",
    "\n",
    "corrdata_stat_1_spb_centre = data_stat_1_spb_centre.corr()\n",
    "sn.heatmap(corrdata_stat_1_spb_centre, annot=True)\n",
    "plt.show()\n",
    "\n",
    "for x in data_stat_1_spb_centre.loc[:, 'total_area':]:\n",
    "    data_stat_1_spb_centre.plot.scatter(x=x, y='last_price')\n",
    "    plt.ylabel(dict_stat['last_price'])\n",
    "    plt.xlabel(dict_stat[x])\n",
    "    plt.show()\n"
   ]
  },
  {
   "cell_type": "markdown",
   "metadata": {},
   "source": [
    "Зависимость цены от метража примерно одинакова, от количества комнат - корреляция усилилась (индекс вырос от 0,39 до 0,54). С удаленностью от центра - слабая, и это понятно, так как цена примерно одинакова."
   ]
  },
  {
   "cell_type": "code",
   "execution_count": 50,
   "metadata": {},
   "outputs": [
    {
     "data": {
      "text/html": [
       "<div>\n",
       "<style scoped>\n",
       "    .dataframe tbody tr th:only-of-type {\n",
       "        vertical-align: middle;\n",
       "    }\n",
       "\n",
       "    .dataframe tbody tr th {\n",
       "        vertical-align: top;\n",
       "    }\n",
       "\n",
       "    .dataframe thead th {\n",
       "        text-align: right;\n",
       "    }\n",
       "</style>\n",
       "<table border=\"1\" class=\"dataframe\">\n",
       "  <thead>\n",
       "    <tr style=\"text-align: right;\">\n",
       "      <th></th>\n",
       "      <th>last_price</th>\n",
       "      <th>floor_category_numeric</th>\n",
       "    </tr>\n",
       "  </thead>\n",
       "  <tbody>\n",
       "    <tr>\n",
       "      <td>18514</td>\n",
       "      <td>9200000.0</td>\n",
       "      <td>3</td>\n",
       "    </tr>\n",
       "    <tr>\n",
       "      <td>14741</td>\n",
       "      <td>12000000.0</td>\n",
       "      <td>2</td>\n",
       "    </tr>\n",
       "    <tr>\n",
       "      <td>16117</td>\n",
       "      <td>9600000.0</td>\n",
       "      <td>3</td>\n",
       "    </tr>\n",
       "    <tr>\n",
       "      <td>12948</td>\n",
       "      <td>14000000.0</td>\n",
       "      <td>3</td>\n",
       "    </tr>\n",
       "    <tr>\n",
       "      <td>9637</td>\n",
       "      <td>3990900.0</td>\n",
       "      <td>2</td>\n",
       "    </tr>\n",
       "  </tbody>\n",
       "</table>\n",
       "</div>"
      ],
      "text/plain": [
       "       last_price  floor_category_numeric\n",
       "18514   9200000.0                       3\n",
       "14741  12000000.0                       2\n",
       "16117   9600000.0                       3\n",
       "12948  14000000.0                       3\n",
       "9637    3990900.0                       2"
      ]
     },
     "metadata": {},
     "output_type": "display_data"
    },
    {
     "data": {
      "image/png": "[encoded data removed]",
      "text/plain": [
       "<Figure size 432x288 with 1 Axes>"
      ]
     },
     "metadata": {},
     "output_type": "display_data"
    }
   ],
   "source": [
    "data_stat_2_spb_centre = data_spb_centre[\n",
    "    ['last_price', 'floor_category_numeric']]\n",
    "\n",
    "display(data_stat_2_spb_centre.sample(5))\n",
    "\n",
    "data_stat_2_spb_centre.plot.scatter(x='floor_category_numeric', y='last_price')\n",
    "plt.ylabel(dict_stat['last_price'])\n",
    "plt.xlabel(dict_stat['floor_category_numeric'])\n",
    "plt.show()"
   ]
  },
  {
   "cell_type": "markdown",
   "metadata": {},
   "source": [
    "Квартиры на первых этажах отсутствуют, корреляция очень слабая"
   ]
  },
  {
   "cell_type": "code",
   "execution_count": 51,
   "metadata": {},
   "outputs": [
    {
     "data": {
      "text/html": [
       "<div>\n",
       "<style scoped>\n",
       "    .dataframe tbody tr th:only-of-type {\n",
       "        vertical-align: middle;\n",
       "    }\n",
       "\n",
       "    .dataframe tbody tr th {\n",
       "        vertical-align: top;\n",
       "    }\n",
       "\n",
       "    .dataframe thead th {\n",
       "        text-align: right;\n",
       "    }\n",
       "</style>\n",
       "<table border=\"1\" class=\"dataframe\">\n",
       "  <thead>\n",
       "    <tr style=\"text-align: right;\">\n",
       "      <th></th>\n",
       "      <th>last_price</th>\n",
       "      <th>weekday</th>\n",
       "      <th>month</th>\n",
       "      <th>year</th>\n",
       "    </tr>\n",
       "  </thead>\n",
       "  <tbody>\n",
       "    <tr>\n",
       "      <td>9916</td>\n",
       "      <td>6900000.0</td>\n",
       "      <td>4</td>\n",
       "      <td>2</td>\n",
       "      <td>2019</td>\n",
       "    </tr>\n",
       "    <tr>\n",
       "      <td>22533</td>\n",
       "      <td>9000000.0</td>\n",
       "      <td>1</td>\n",
       "      <td>6</td>\n",
       "      <td>2017</td>\n",
       "    </tr>\n",
       "    <tr>\n",
       "      <td>12840</td>\n",
       "      <td>5650000.0</td>\n",
       "      <td>2</td>\n",
       "      <td>11</td>\n",
       "      <td>2015</td>\n",
       "    </tr>\n",
       "    <tr>\n",
       "      <td>9608</td>\n",
       "      <td>6400000.0</td>\n",
       "      <td>5</td>\n",
       "      <td>9</td>\n",
       "      <td>2018</td>\n",
       "    </tr>\n",
       "    <tr>\n",
       "      <td>4128</td>\n",
       "      <td>8589000.0</td>\n",
       "      <td>6</td>\n",
       "      <td>8</td>\n",
       "      <td>2015</td>\n",
       "    </tr>\n",
       "  </tbody>\n",
       "</table>\n",
       "</div>"
      ],
      "text/plain": [
       "       last_price  weekday  month  year\n",
       "9916    6900000.0        4      2  2019\n",
       "22533   9000000.0        1      6  2017\n",
       "12840   5650000.0        2     11  2015\n",
       "9608    6400000.0        5      9  2018\n",
       "4128    8589000.0        6      8  2015"
      ]
     },
     "metadata": {},
     "output_type": "display_data"
    },
    {
     "data": {
      "image/png": "[encoded data removed]",
      "text/plain": [
       "<Figure size 432x288 with 2 Axes>"
      ]
     },
     "metadata": {},
     "output_type": "display_data"
    },
    {
     "data": {
      "image/png": "[encoded data removed]",
      "text/plain": [
       "<Figure size 432x288 with 1 Axes>"
      ]
     },
     "metadata": {},
     "output_type": "display_data"
    },
    {
     "data": {
      "image/png": "[encoded data removed]",
      "text/plain": [
       "<Figure size 432x288 with 1 Axes>"
      ]
     },
     "metadata": {},
     "output_type": "display_data"
    },
    {
     "data": {
      "image/png": "[encoded data removed]",
      "text/plain": [
       "<Figure size 432x288 with 1 Axes>"
      ]
     },
     "metadata": {},
     "output_type": "display_data"
    }
   ],
   "source": [
    "data_stat_3_spb_centre = data_spb_centre[\n",
    "    ['last_price', 'weekday', 'month', 'year']]\n",
    "display(data_stat_3_spb_centre.sample(5))\n",
    "\n",
    "corrdata_stat_3_spb_centre = data_stat_3_spb_centre.corr()\n",
    "sn.heatmap(corrdata_stat_3_spb_centre, annot=True)\n",
    "\n",
    "for x in data_stat_3_spb_centre.loc[:, 'weekday':]:\n",
    "    data_stat_3_spb_centre.plot.scatter(x=x, y='last_price')\n",
    "    plt.ylabel(dict_stat['last_price'])\n",
    "    plt.xlabel(dict_stat[x])\n",
    "    plt.show()"
   ]
  },
  {
   "cell_type": "markdown",
   "metadata": {},
   "source": [
    "##### Зависимость цены квартиры от квадратного метра, количеством комнат и удаленности от центра.\n",
    "\n",
    "Зависимость цены от метража примерно одинакова по всему СПБ и Ленинградской области - чем больше квартира, тем выше цена. Однако при преодолении отметки в прайсе 6 млн.руб. квартиры слегла больше распыляются по графику.\n",
    "от количества комнат - корреляция усилилась (индекс вырос от 0,39 до 0,54). Тут видно наглядно, что чем больше комнат, тем выше цена. МОжет быть, каждая комната - это уже памятник истории?\n",
    "С удаленностью от центра - слабая, и это понятно, так как цена квартир в небольшом радиусе отличается в зависимости от других факторов - например, от количества комнат и площади."
   ]
  },
  {
   "cell_type": "markdown",
   "metadata": {},
   "source": [
    "##### Зависимость цены квартиры от этажа квартиры.\n",
    "\n",
    "На первых этажах квартир вообще нет. Эти квартиры давно уже выкуплены, сдаются или просто используются на коммерческой основе. Ведь это прибыльно. КОрреляция положительная и слабая - как и по всему городу. "
   ]
  },
  {
   "cell_type": "markdown",
   "metadata": {},
   "source": [
    "##### Зависимость цены квартиры от дня, месяца и года публикации объявления.\n",
    "\n",
    "Зависимость цены от даты публикации объявления так же, как и в случае по всему городу, очень слабая. Большинство объявлений подают по средам и в конце-начале года. "
   ]
  },
  {
   "cell_type": "markdown",
   "metadata": {},
   "source": [
    "## <a id=\"step5\">Шаг 5. Выводы</a>"
   ]
  },
  {
   "cell_type": "markdown",
   "metadata": {},
   "source": [
    "##### Исходя из проведенного анализа, можно подвести итоги: #####\n",
    "\n",
    "Рыночная стоимость объктов недвижимости складывается, преимущественно, из двух параметров - общая площадь помещения и удаленность от центра города. Количество комнат может повлиять, но не сильно, только если в центре города - чем больше комнат, тем выше цена. Возможно, это связано с историческим наследием. Этажность важна только в центре города - есть предположения, что квартиры на первом этаже зданий в центре стоили бы гораздо выше и меняли бы статистику. Дата публикаций объявлений вообще не важна, важна лишь сезонность их появления - шанс купить лучший вариант возрастает в декабре-январе.\n",
    "\n",
    "При возникновении аномалий, не свойственных данной выборке, следует внимательно изучить другие параметры, ведь мошенники часто занижает цену за квартиру для привлечения бОльшего количества потенциальных жертв, которые всегда в поиске лучшего варианта за меньшие деньги.\n"
   ]
  }
 ],
 "metadata": {
  "kernelspec": {
   "display_name": "Python 3",
   "language": "python",
   "name": "python3"
  },
  "language_info": {
   "codemirror_mode": {
    "name": "ipython",
    "version": 3
   },
   "file_extension": ".py",
   "mimetype": "text/x-python",
   "name": "python",
   "nbconvert_exporter": "python",
   "pygments_lexer": "ipython3",
   "version": "3.7.6"
  },
  "latex_envs": {
   "LaTeX_envs_menu_present": true,
   "autoclose": false,
   "autocomplete": true,
   "bibliofile": "biblio.bib",
   "cite_by": "apalike",
   "current_citInitial": 1,
   "eqLabelWithNumbers": true,
   "eqNumInitial": 1,
   "hotkeys": {
    "equation": "Ctrl-E",
    "itemize": "Ctrl-I"
   },
   "labels_anchors": false,
   "latex_user_defs": false,
   "report_style_numbering": false,
   "user_envs_cfg": false
  },
  "toc": {
   "base_numbering": 1,
   "nav_menu": {},
   "number_sections": true,
   "sideBar": true,
   "skip_h1_title": false,
   "title_cell": "Table of Contents",
   "title_sidebar": "Contents",
   "toc_cell": false,
   "toc_position": {
    "height": "calc(100% - 180px)",
    "left": "10px",
    "top": "150px",
    "width": "351.458px"
   },
   "toc_section_display": true,
   "toc_window_display": true
  },
  "varInspector": {
   "cols": {
    "lenName": 16,
    "lenType": 16,
    "lenVar": 40
   },
   "kernels_config": {
    "python": {
     "delete_cmd_postfix": "",
     "delete_cmd_prefix": "del ",
     "library": "var_list.py",
     "varRefreshCmd": "print(var_dic_list())"
    },
    "r": {
     "delete_cmd_postfix": ") ",
     "delete_cmd_prefix": "rm(",
     "library": "var_list.r",
     "varRefreshCmd": "cat(var_dic_list()) "
    }
   },
   "types_to_exclude": [
    "module",
    "function",
    "builtin_function_or_method",
    "instance",
    "_Feature"
   ],
   "window_display": false
  }
 },
 "nbformat": 4,
 "nbformat_minor": 2
}
